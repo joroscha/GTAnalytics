{
 "cells": [
  {
   "cell_type": "markdown",
   "metadata": {
    "nbpresent": {
     "id": "3b344dce-70b3-4833-98ba-8a02f45ba205"
    }
   },
   "source": [
    "# An analytics approach to Global Terrorism"
   ]
  },
  {
   "cell_type": "markdown",
   "metadata": {
    "nbpresent": {
     "id": "80329564-dc74-40d9-aed0-df8f04f431f9"
    }
   },
   "source": [
    "## Telling\ta Story with Data \n",
    "### Team F08\n",
    "\n",
    "Sherin Varghese - savarghe\n",
    "\n",
    "Jose Eduardo Oros - joroscha\n"
   ]
  },
  {
   "cell_type": "markdown",
   "metadata": {},
   "source": [
    "Terrorism continues to affect the life of millions of people all across the world. During the last months in the US, there has been an ongoing heated debate on what is the best way to approach this problem, and what policies should be implemented. Certain groups have been labeled, and polemic decisions have been taken. We considered that the best way to have a meaningful opinion on the subject is to look at the data. \n",
    "\n",
    "This analysis will focus on answering the following general questions:\n",
    "\n",
    "1. How has the number of attacks and victims of terrorism evolved through time?\n",
    "2. Which groups are responsible for the most deadly attacks?\n",
    "\n",
    "Then, we will focus our attention on two terrorist groups in South and Central America for answering the following questions:\n",
    "\n",
    "1. What is the period of time of activity of both groups?\n",
    "2. How does each particular group spread geograhically in their respective regions?\n",
    "2. What was their particular modus operandi and motives?\n",
    "3. What were the main reasons for the groups' disappearance?\n",
    "\n",
    "To perform our analysis, we used data from the The Global Terrorism Database (GTD), an open-source database including information on terrorist events around the world from 1970 through 2015. The GTD includes systematic data on domestic as well as international terrorist incidents that have occurred during this time period and includes more than 150,000 cases. To discover more interesting insights, we matched keywords from our data with data from Wikipedia's Years pages (eg. 1978, 1992 etc), using Wptools, a Python library that uses Wikipedia API.\n",
    "\n",
    "Our work is presented with visualizations using both Tableau and matplotlib. Tableau visualizations were posted to Tableau's online public server and were linked to the notebook using the embed code. Two animated visualizations were added, for the purpose of analyzing the geographical spread of these groups."
   ]
  },
  {
   "cell_type": "markdown",
   "metadata": {},
   "source": [
    "* Important: We included the library wptools for our analysis. This library uses the Wikipedia API to query information from the webpage. It is required to install the library as follows:\n",
    "\n",
    "    pip install wptools"
   ]
  },
  {
   "cell_type": "code",
   "execution_count": 1,
   "metadata": {
    "collapsed": true,
    "nbpresent": {
     "id": "32261b55-a4f7-488f-b782-cb6aed9a94b8"
    }
   },
   "outputs": [],
   "source": [
    "#import the necessary libraries\n",
    "\n",
    "import pandas as pd\n",
    "import matplotlib.pyplot as plt\n",
    "import numpy as np\n",
    "\n",
    "%matplotlib inline"
   ]
  },
  {
   "cell_type": "code",
   "execution_count": 2,
   "metadata": {
    "collapsed": false,
    "nbpresent": {
     "id": "878157f5-43cd-42b3-b64b-2ff0d816e89d"
    }
   },
   "outputs": [],
   "source": [
    "#import the dataset, and perform pre processing\n",
    "ter_df = pd.read_csv('globalt.csv',encoding='latin-1',dtype='unicode')\n",
    "ter_df[['doubtterr']] = ter_df[['doubtterr']].astype(float)\n",
    "ter_df[['iyear']] = ter_df[['iyear']].astype(int)"
   ]
  },
  {
   "cell_type": "markdown",
   "metadata": {
    "nbpresent": {
     "id": "c8c959a0-51ec-4949-a800-94be2c63cfa8"
    }
   },
   "source": [
    "First, we want to keep the columns that will be useful for our analysis. We will filter out the events that are labeled as ambiguous attacks, by removing the records with doubtterr = 0."
   ]
  },
  {
   "cell_type": "code",
   "execution_count": 3,
   "metadata": {
    "collapsed": false,
    "nbpresent": {
     "id": "70b843a6-380d-41ed-81cb-2b7fea179c08"
    }
   },
   "outputs": [],
   "source": [
    "ter_filtered= ter_df[(ter_df['doubtterr'] == 0) &  (ter_df['iyear'] >= 1970)]\n",
    "ter_filtered = ter_filtered[['eventid','iyear', 'imonth', 'iday','country', 'country_txt', 'region', 'region_txt',\n",
    "              'provstate','city', 'longitude','latitude', 'location','crit1', 'crit2', 'crit3', 'multiple',\n",
    "              'success', 'suicide', 'attacktype1', 'attacktype1_txt', 'targtype1', 'targtype1_txt',\n",
    "             'targsubtype1', 'targsubtype1_txt', 'corp1', 'target1', 'natlty1', 'natlty1_txt', 'gname',\n",
    "             'motive', 'nperps', 'nperpcap', 'claimed','claimmode', 'claimmode_txt', 'weaptype1', 'weaptype1_txt',\n",
    "             'weapsubtype1', 'weapsubtype1_txt', 'nkill', 'nkillter', 'nwound', 'property', 'property', 'propextent',\n",
    "              'propextent_txt', 'propvalue', 'ishostkid', 'nhostkid','divert', 'ransom', 'ransompaid', 'hostkidoutcome',\n",
    "              'hostkidoutcome_txt',  'addnotes', 'INT_LOG', 'related']]\n",
    "\n",
    "\n"
   ]
  },
  {
   "cell_type": "markdown",
   "metadata": {
    "nbpresent": {
     "id": "3e8c4ae0-4df0-4744-9abe-4bc30aafddda"
    }
   },
   "source": [
    "We have to perform some data cleaning to remove unwanted characters in some of the columns."
   ]
  },
  {
   "cell_type": "code",
   "execution_count": 4,
   "metadata": {
    "collapsed": false,
    "nbpresent": {
     "id": "1dabd227-494a-4477-8501-609b532fac9d"
    }
   },
   "outputs": [],
   "source": [
    "ter_filtered.loc[:,list(ter_filtered.columns)] = ter_filtered[list(ter_filtered.columns)].replace(['.']*len(ter_filtered.columns), ['Unknown']*len(ter_filtered.columns))"
   ]
  },
  {
   "cell_type": "markdown",
   "metadata": {
    "nbpresent": {
     "id": "b87fdad7-8243-44ff-b438-c6ee1ae56d70"
    }
   },
   "source": [
    "We can analyze how many values and what categories we have for each feature in our dataset, to help us select what features we should keep. Eg: We will look at the feature 'multiple' to check how it's values are distributed."
   ]
  },
  {
   "cell_type": "code",
   "execution_count": 5,
   "metadata": {
    "collapsed": false,
    "nbpresent": {
     "id": "ccd57d7a-0b8a-4ee7-801f-3baf9aeeca18"
    }
   },
   "outputs": [
    {
     "data": {
      "text/plain": [
       "multiple\n",
       "0    101153\n",
       "1     17605\n",
       "dtype: int64"
      ]
     },
     "execution_count": 5,
     "metadata": {},
     "output_type": "execute_result"
    }
   ],
   "source": [
    "ter_filtered.groupby('multiple').size().sort_values(ascending = False)"
   ]
  },
  {
   "cell_type": "markdown",
   "metadata": {
    "nbpresent": {
     "id": "08aaa72d-b4ff-40b5-9c25-d6a1e59ad461"
    }
   },
   "source": [
    "Now, lets look at some interesting aspects of our data. The number of terrorist attacks registered in our dataset are:"
   ]
  },
  {
   "cell_type": "code",
   "execution_count": 6,
   "metadata": {
    "collapsed": false,
    "nbpresent": {
     "id": "62589dca-21e3-49ca-943d-3ca6ce5841df"
    }
   },
   "outputs": [
    {
     "data": {
      "text/plain": [
       "118758"
      ]
     },
     "execution_count": 6,
     "metadata": {},
     "output_type": "execute_result"
    }
   ],
   "source": [
    "len(ter_filtered)"
   ]
  },
  {
   "cell_type": "markdown",
   "metadata": {},
   "source": [
    "We have data from 1970 to 2015"
   ]
  },
  {
   "cell_type": "code",
   "execution_count": 7,
   "metadata": {
    "collapsed": false,
    "nbpresent": {
     "id": "35aae7d4-39b7-439a-9272-1fee43d39844"
    }
   },
   "outputs": [
    {
     "name": "stdout",
     "output_type": "stream",
     "text": [
      "Minimum value for year: 1970\n",
      "Maximum value for year: 2015\n"
     ]
    }
   ],
   "source": [
    "print('Minimum value for year:',min(ter_filtered['iyear']))\n",
    "print('Maximum value for year:',max(ter_filtered['iyear']))"
   ]
  },
  {
   "cell_type": "markdown",
   "metadata": {
    "nbpresent": {
     "id": "484c99f5-29a4-4563-ab27-6c50e69c688e"
    }
   },
   "source": [
    "## Number of Attacks"
   ]
  },
  {
   "cell_type": "markdown",
   "metadata": {
    "nbpresent": {
     "id": "cda36608-6720-4aff-8c23-cf0138e2c98f"
    }
   },
   "source": [
    "Lets see how many attacks we have registered in our data set for the first few years:"
   ]
  },
  {
   "cell_type": "code",
   "execution_count": 8,
   "metadata": {
    "collapsed": false,
    "nbpresent": {
     "id": "52177658-1e6b-4f1a-8e8a-9d00f628aa93"
    }
   },
   "outputs": [
    {
     "data": {
      "text/plain": [
       "iyear\n",
       "1970    489\n",
       "1971    323\n",
       "1972    313\n",
       "1973    313\n",
       "1974    440\n",
       "dtype: int64"
      ]
     },
     "execution_count": 8,
     "metadata": {},
     "output_type": "execute_result"
    }
   ],
   "source": [
    "ter_filtered.groupby('iyear').size().head()"
   ]
  },
  {
   "cell_type": "markdown",
   "metadata": {},
   "source": [
    "The following plot shows the number of attacks registered in our dataset"
   ]
  },
  {
   "cell_type": "code",
   "execution_count": 9,
   "metadata": {
    "collapsed": false,
    "nbpresent": {
     "id": "f6105d10-52be-4115-9dbd-43c407896899"
    }
   },
   "outputs": [
    {
     "data": {
      "text/html": [
       "\n",
       "<div class='tableauPlaceholder' id='viz1488763060122' style='position: relative'><noscript><a href='#'><img alt='Attacks_kills_worlwide ' src='https:&#47;&#47;public.tableau.com&#47;static&#47;images&#47;Te&#47;TerrorismAnalytics&#47;Attacks_kills_worlwide&#47;1_rss.png' style='border: none' /></a></noscript><object class='tableauViz'  style='display:none;'><param name='host_url' value='https%3A%2F%2Fpublic.tableau.com%2F' /> <param name='site_root' value='' /><param name='name' value='TerrorismAnalytics&#47;Attacks_kills_worlwide' /><param name='tabs' value='no' /><param name='toolbar' value='yes' /><param name='static_image' value='https:&#47;&#47;public.tableau.com&#47;static&#47;images&#47;Te&#47;TerrorismAnalytics&#47;Attacks_kills_worlwide&#47;1.png' /> <param name='animate_transition' value='yes' /><param name='display_static_image' value='yes' /><param name='display_spinner' value='yes' /><param name='display_overlay' value='yes' /><param name='display_count' value='yes' /></object></div>                <script type='text/javascript'>                    var divElement = document.getElementById('viz1488763060122');                    var vizElement = divElement.getElementsByTagName('object')[0];                    vizElement.style.width='1004px';vizElement.style.height='869px';                    var scriptElement = document.createElement('script');                    scriptElement.src = 'https://public.tableau.com/javascripts/api/viz_v1.js';                    vizElement.parentNode.insertBefore(scriptElement, vizElement);                </script>"
      ],
      "text/plain": [
       "<IPython.core.display.HTML object>"
      ]
     },
     "metadata": {},
     "output_type": "display_data"
    }
   ],
   "source": [
    "%%HTML\n",
    "\n",
    "<div class='tableauPlaceholder' id='viz1488763060122' style='position: relative'><noscript><a href='#'><img alt='Attacks_kills_worlwide ' src='https:&#47;&#47;public.tableau.com&#47;static&#47;images&#47;Te&#47;TerrorismAnalytics&#47;Attacks_kills_worlwide&#47;1_rss.png' style='border: none' /></a></noscript><object class='tableauViz'  style='display:none;'><param name='host_url' value='https%3A%2F%2Fpublic.tableau.com%2F' /> <param name='site_root' value='' /><param name='name' value='TerrorismAnalytics&#47;Attacks_kills_worlwide' /><param name='tabs' value='no' /><param name='toolbar' value='yes' /><param name='static_image' value='https:&#47;&#47;public.tableau.com&#47;static&#47;images&#47;Te&#47;TerrorismAnalytics&#47;Attacks_kills_worlwide&#47;1.png' /> <param name='animate_transition' value='yes' /><param name='display_static_image' value='yes' /><param name='display_spinner' value='yes' /><param name='display_overlay' value='yes' /><param name='display_count' value='yes' /></object></div>                <script type='text/javascript'>                    var divElement = document.getElementById('viz1488763060122');                    var vizElement = divElement.getElementsByTagName('object')[0];                    vizElement.style.width='1004px';vizElement.style.height='869px';                    var scriptElement = document.createElement('script');                    scriptElement.src = 'https://public.tableau.com/javascripts/api/viz_v1.js';                    vizElement.parentNode.insertBefore(scriptElement, vizElement);                </script>"
   ]
  },
  {
   "cell_type": "markdown",
   "metadata": {
    "nbpresent": {
     "id": "fd5617b3-3a69-430f-abfe-565f08535901"
    }
   },
   "source": [
    "As we can see, there is a major increase in the number of terrorist attacks in the last 10 years. Looking at earlier dates, there seemed to be an increase in attacks from 1970 through to the beginning of 90's, followed by a decrease. As we will later see, there were some events happening in 1992 that can explain the decrease.\n",
    "\n",
    "Now, we show the number of terrorist attacks by regions."
   ]
  },
  {
   "cell_type": "code",
   "execution_count": 10,
   "metadata": {
    "collapsed": false,
    "nbpresent": {
     "id": "7361b9d0-432f-4f65-892a-1e3422fbd615"
    }
   },
   "outputs": [
    {
     "data": {
      "text/plain": [
       "region_txt\n",
       "Middle East & North Africa     31489\n",
       "South Asia                     30832\n",
       "South America                  14216\n",
       "Western Europe                 12113\n",
       "Sub-Saharan Africa             10089\n",
       "Southeast Asia                  7948\n",
       "Central America & Caribbean     5317\n",
       "Eastern Europe                  3247\n",
       "North America                   2525\n",
       "East Asia                        485\n",
       "Central Asia                     365\n",
       "Australasia & Oceania            132\n",
       "dtype: int64"
      ]
     },
     "execution_count": 10,
     "metadata": {},
     "output_type": "execute_result"
    }
   ],
   "source": [
    "tot_region = ter_filtered.groupby('region_txt').size()\n",
    "tot_region.sort_values(ascending = False)"
   ]
  },
  {
   "cell_type": "code",
   "execution_count": 11,
   "metadata": {
    "collapsed": false
   },
   "outputs": [
    {
     "data": {
      "text/html": [
       "\n",
       "<div class='tableauPlaceholder' id='viz1488748645226' style='position: relative'><noscript><a href='#'><img alt='Country vs # groups - 2014 ' src='https:&#47;&#47;public.tableau.com&#47;static&#47;images&#47;GT&#47;GTD_Final_Project&#47;Countryvsgroups&#47;1_rss.png' style='border: none' /></a></noscript><object class='tableauViz'  style='display:none;'><param name='host_url' value='https%3A%2F%2Fpublic.tableau.com%2F' /> <param name='site_root' value='' /><param name='name' value='GTD_Final_Project&#47;Countryvsgroups' /><param name='tabs' value='no' /><param name='toolbar' value='yes' /><param name='static_image' value='https:&#47;&#47;public.tableau.com&#47;static&#47;images&#47;GT&#47;GTD_Final_Project&#47;Countryvsgroups&#47;1.png' /> <param name='animate_transition' value='yes' /><param name='display_static_image' value='yes' /><param name='display_spinner' value='yes' /><param name='display_overlay' value='yes' /><param name='display_count' value='yes' /></object></div>                <script type='text/javascript'>                    var divElement = document.getElementById('viz1488748645226');                    var vizElement = divElement.getElementsByTagName('object')[0];                    vizElement.style.width='100%';vizElement.style.height=(divElement.offsetWidth*0.75)+'px';                    var scriptElement = document.createElement('script');                    scriptElement.src = 'https://public.tableau.com/javascripts/api/viz_v1.js';                    vizElement.parentNode.insertBefore(scriptElement, vizElement);                </script>"
      ],
      "text/plain": [
       "<IPython.core.display.HTML object>"
      ]
     },
     "metadata": {},
     "output_type": "display_data"
    }
   ],
   "source": [
    "%%HTML\n",
    "\n",
    "<div class='tableauPlaceholder' id='viz1488748645226' style='position: relative'><noscript><a href='#'><img alt='Country vs # groups - 2014 ' src='https:&#47;&#47;public.tableau.com&#47;static&#47;images&#47;GT&#47;GTD_Final_Project&#47;Countryvsgroups&#47;1_rss.png' style='border: none' /></a></noscript><object class='tableauViz'  style='display:none;'><param name='host_url' value='https%3A%2F%2Fpublic.tableau.com%2F' /> <param name='site_root' value='' /><param name='name' value='GTD_Final_Project&#47;Countryvsgroups' /><param name='tabs' value='no' /><param name='toolbar' value='yes' /><param name='static_image' value='https:&#47;&#47;public.tableau.com&#47;static&#47;images&#47;GT&#47;GTD_Final_Project&#47;Countryvsgroups&#47;1.png' /> <param name='animate_transition' value='yes' /><param name='display_static_image' value='yes' /><param name='display_spinner' value='yes' /><param name='display_overlay' value='yes' /><param name='display_count' value='yes' /></object></div>                <script type='text/javascript'>                    var divElement = document.getElementById('viz1488748645226');                    var vizElement = divElement.getElementsByTagName('object')[0];                    vizElement.style.width='100%';vizElement.style.height=(divElement.offsetWidth*0.75)+'px';                    var scriptElement = document.createElement('script');                    scriptElement.src = 'https://public.tableau.com/javascripts/api/viz_v1.js';                    vizElement.parentNode.insertBefore(scriptElement, vizElement);                </script>\n"
   ]
  },
  {
   "cell_type": "markdown",
   "metadata": {},
   "source": [
    "The map above shows the location of all the terrorist attacks in our database. The color indicates the region it belongs to, out of 12 possible regions. We can modify the year parameter to show the attacks corresponding to that particular year. We can see that the terrorist attacks take place all around the globe, but there are regions of higher concentration, such as the middle East, South Asia, and South America. \n",
    "\n",
    "Terrorist groups usually act in a single territory or region so let us explore the number of attacks that each group has committed:"
   ]
  },
  {
   "cell_type": "code",
   "execution_count": 12,
   "metadata": {
    "collapsed": false,
    "nbpresent": {
     "id": "8a3990f3-f904-48c0-b58b-43f415af2038"
    }
   },
   "outputs": [
    {
     "data": {
      "text/plain": [
       "gname\n",
       "Unknown                                             52266\n",
       "Taliban                                              4762\n",
       "Shining Path (SL)                                    4135\n",
       "Islamic State of Iraq and the Levant (ISIL)          2381\n",
       "Farabundo Marti National Liberation Front (FMLN)     2129\n",
       "Revolutionary Armed Forces of Colombia (FARC)        2039\n",
       "Basque Fatherland and Freedom (ETA)                  1905\n",
       "Irish Republican Army (IRA)                          1882\n",
       "Boko Haram                                           1700\n",
       "Communist Party of India - Maoist (CPI-Maoist)       1612\n",
       "New People's Army (NPA)                              1506\n",
       "Al-Shabaab                                           1360\n",
       "Kurdistan Workers' Party (PKK)                       1280\n",
       "National Liberation Army of Colombia (ELN)           1235\n",
       "Liberation Tigers of Tamil Eelam (LTTE)              1087\n",
       "Maoists                                              1073\n",
       "Tehrik-i-Taliban Pakistan (TTP)                       991\n",
       "Manuel Rodriguez Patriotic Front (FPMR)               799\n",
       "Corsican National Liberation Front (FLNC)             627\n",
       "Al-Qaida in Iraq                                      581\n",
       "dtype: int64"
      ]
     },
     "execution_count": 12,
     "metadata": {},
     "output_type": "execute_result"
    }
   ],
   "source": [
    "ter_filtered.groupby('gname').size().sort_values(ascending = False).head(20)"
   ]
  },
  {
   "cell_type": "markdown",
   "metadata": {
    "nbpresent": {
     "id": "feb80959-f334-4a31-857c-233ce1fab92c"
    }
   },
   "source": [
    "The group with highest number of attacks is the Taliban, followed by Shining Path and ISIL. As we can see, there is a large group of attacks labeled under 'Unknown'. Why do we have so many entries labeled as unknown? We want to find out where the 'unknown group' attacks were committed:"
   ]
  },
  {
   "cell_type": "code",
   "execution_count": 13,
   "metadata": {
    "collapsed": false,
    "nbpresent": {
     "id": "95efd318-f571-48cb-a594-8fea89811103"
    }
   },
   "outputs": [
    {
     "data": {
      "text/plain": [
       "region_txt\n",
       "Middle East & North Africa     20053\n",
       "South Asia                     15164\n",
       "Southeast Asia                  3992\n",
       "Sub-Saharan Africa              3218\n",
       "South America                   2702\n",
       "Western Europe                  2622\n",
       "Eastern Europe                  2285\n",
       "Central America & Caribbean     1274\n",
       "North America                    392\n",
       "Central Asia                     291\n",
       "East Asia                        207\n",
       "Australasia & Oceania             66\n",
       "dtype: int64"
      ]
     },
     "execution_count": 13,
     "metadata": {},
     "output_type": "execute_result"
    }
   ],
   "source": [
    "unknown_region = ter_filtered[ter_filtered['gname'] == 'Unknown'].groupby('region_txt').size()\n",
    "unknown_region.sort_values(ascending = False)"
   ]
  },
  {
   "cell_type": "markdown",
   "metadata": {
    "nbpresent": {
     "id": "c80d2719-d609-4fb8-96c6-f934f73c12ce"
    }
   },
   "source": [
    "As we can see, mostly all unknown groups correspond to the Middle East region and South Asia. However, it would be better to know the proportion of 'Unknown' compared to the total attacks broken down by region:"
   ]
  },
  {
   "cell_type": "code",
   "execution_count": 14,
   "metadata": {
    "collapsed": false,
    "nbpresent": {
     "id": "5ecb1675-ea4a-4b51-8ae1-4ac21f213682"
    }
   },
   "outputs": [
    {
     "data": {
      "text/plain": [
       "region_txt\n",
       "Central Asia                   0.797260\n",
       "Eastern Europe                 0.703727\n",
       "Middle East & North Africa     0.636826\n",
       "Southeast Asia                 0.502265\n",
       "Australasia & Oceania          0.500000\n",
       "South Asia                     0.491827\n",
       "East Asia                      0.426804\n",
       "Sub-Saharan Africa             0.318961\n",
       "Central America & Caribbean    0.239609\n",
       "Western Europe                 0.216462\n",
       "South America                  0.190068\n",
       "North America                  0.155248\n",
       "dtype: float64"
      ]
     },
     "execution_count": 14,
     "metadata": {},
     "output_type": "execute_result"
    }
   ],
   "source": [
    "(unknown_region/tot_region).sort_values(ascending = False)"
   ]
  },
  {
   "cell_type": "markdown",
   "metadata": {},
   "source": [
    "Now, we can see that the region with a higher percentage of unknown attacks correspond to Central Asia and Eastern Europe. Maybe there is a relation between time and attacks by unknown groups. Let us look into the data, by calculating the percentage of unknown attack through the years:"
   ]
  },
  {
   "cell_type": "code",
   "execution_count": 15,
   "metadata": {
    "collapsed": false
   },
   "outputs": [
    {
     "data": {
      "text/plain": [
       "iyear\n",
       "1970    0.098160\n",
       "1971    0.123839\n",
       "1972    0.108626\n",
       "1973    0.124601\n",
       "1974    0.095455\n",
       "dtype: float64"
      ]
     },
     "execution_count": 15,
     "metadata": {},
     "output_type": "execute_result"
    }
   ],
   "source": [
    "ter_filtered[ter_filtered['gname'] == 'Unknown'].groupby('iyear').size().head()/ter_filtered.groupby('iyear').size().head()"
   ]
  },
  {
   "cell_type": "markdown",
   "metadata": {},
   "source": [
    "We plot it:"
   ]
  },
  {
   "cell_type": "code",
   "execution_count": 16,
   "metadata": {
    "collapsed": false,
    "nbpresent": {
     "id": "a55379e9-cbc0-4a3d-a3ce-63c87ca9b143"
    }
   },
   "outputs": [
    {
     "data": {
      "text/plain": [
       "<matplotlib.text.Text at 0x1f3eb86c828>"
      ]
     },
     "execution_count": 16,
     "metadata": {},
     "output_type": "execute_result"
    },
    {
     "data": {
      "image/png": "[encoded data removed]",
      "text/plain": [
       "<matplotlib.figure.Figure at 0x1f3d82f66a0>"
      ]
     },
     "metadata": {},
     "output_type": "display_data"
    }
   ],
   "source": [
    "unknown_attacks_year = ter_filtered[ter_filtered['gname'] == 'Unknown'].groupby('iyear').size()\n",
    "all_attacks = ter_filtered.groupby('iyear').size()\n",
    "\n",
    "#plotting the results\n",
    "(unknown_attacks_year/all_attacks).plot()\n",
    "plt.title('Percentage of attacks commited by unknown groups')\n",
    "plt.xlabel('Years')\n",
    "plt.ylabel('Percentage of Unknowns')"
   ]
  },
  {
   "cell_type": "markdown",
   "metadata": {},
   "source": [
    "We can see that as the years pass, the percentage of unknown attacks increases. It might be because the number of attacks are also on the rise."
   ]
  },
  {
   "cell_type": "markdown",
   "metadata": {},
   "source": [
    "Now, we want to explore the most concerning consequence of terrorism, that is, the number of people killed."
   ]
  },
  {
   "cell_type": "markdown",
   "metadata": {
    "nbpresent": {
     "id": "cb93906e-90d6-40c6-ba6d-61396556991f"
    }
   },
   "source": [
    "## Victims of Attacks"
   ]
  },
  {
   "cell_type": "markdown",
   "metadata": {
    "nbpresent": {
     "id": "94518e43-3081-4d2c-8356-649572b4915e"
    }
   },
   "source": [
    "We will explore how many victims the terrorist groups have claimed in the attacks in our data set:"
   ]
  },
  {
   "cell_type": "code",
   "execution_count": 17,
   "metadata": {
    "collapsed": false,
    "nbpresent": {
     "id": "f01fe250-e88b-4f7f-bde4-d11b6fdc3baa"
    }
   },
   "outputs": [
    {
     "data": {
      "text/html": [
       "<div>\n",
       "<table border=\"1\" class=\"dataframe\">\n",
       "  <thead>\n",
       "    <tr style=\"text-align: right;\">\n",
       "      <th></th>\n",
       "      <th>eventid</th>\n",
       "      <th>nkill</th>\n",
       "    </tr>\n",
       "    <tr>\n",
       "      <th>iyear</th>\n",
       "      <th></th>\n",
       "      <th></th>\n",
       "    </tr>\n",
       "  </thead>\n",
       "  <tbody>\n",
       "    <tr>\n",
       "      <th>1970</th>\n",
       "      <td>489</td>\n",
       "      <td>157.0</td>\n",
       "    </tr>\n",
       "    <tr>\n",
       "      <th>1971</th>\n",
       "      <td>323</td>\n",
       "      <td>114.0</td>\n",
       "    </tr>\n",
       "    <tr>\n",
       "      <th>1972</th>\n",
       "      <td>313</td>\n",
       "      <td>386.0</td>\n",
       "    </tr>\n",
       "    <tr>\n",
       "      <th>1973</th>\n",
       "      <td>313</td>\n",
       "      <td>266.0</td>\n",
       "    </tr>\n",
       "    <tr>\n",
       "      <th>1974</th>\n",
       "      <td>440</td>\n",
       "      <td>450.0</td>\n",
       "    </tr>\n",
       "    <tr>\n",
       "      <th>1975</th>\n",
       "      <td>586</td>\n",
       "      <td>412.0</td>\n",
       "    </tr>\n",
       "    <tr>\n",
       "      <th>1976</th>\n",
       "      <td>663</td>\n",
       "      <td>538.0</td>\n",
       "    </tr>\n",
       "    <tr>\n",
       "      <th>1977</th>\n",
       "      <td>925</td>\n",
       "      <td>354.0</td>\n",
       "    </tr>\n",
       "    <tr>\n",
       "      <th>1978</th>\n",
       "      <td>1097</td>\n",
       "      <td>1091.0</td>\n",
       "    </tr>\n",
       "    <tr>\n",
       "      <th>1979</th>\n",
       "      <td>1940</td>\n",
       "      <td>1350.0</td>\n",
       "    </tr>\n",
       "    <tr>\n",
       "      <th>1980</th>\n",
       "      <td>1611</td>\n",
       "      <td>2188.0</td>\n",
       "    </tr>\n",
       "    <tr>\n",
       "      <th>1981</th>\n",
       "      <td>1507</td>\n",
       "      <td>2019.0</td>\n",
       "    </tr>\n",
       "  </tbody>\n",
       "</table>\n",
       "</div>"
      ],
      "text/plain": [
       "       eventid   nkill\n",
       "iyear                 \n",
       "1970       489   157.0\n",
       "1971       323   114.0\n",
       "1972       313   386.0\n",
       "1973       313   266.0\n",
       "1974       440   450.0\n",
       "1975       586   412.0\n",
       "1976       663   538.0\n",
       "1977       925   354.0\n",
       "1978      1097  1091.0\n",
       "1979      1940  1350.0\n",
       "1980      1611  2188.0\n",
       "1981      1507  2019.0"
      ]
     },
     "execution_count": 17,
     "metadata": {},
     "output_type": "execute_result"
    }
   ],
   "source": [
    "#some pre-processing, and then we compute the number of events and kills in our dataset across the years\n",
    "ter_filtered['nkill'] = (ter_filtered['nkill'].fillna(value = 0)).astype(float)\n",
    "ter_filtered.groupby('iyear').aggregate({'eventid':len, 'nkill':np.sum}).head(12)\n",
    "\n",
    "#eventid column shows the number of events, while nkill shows the number of people killed in all those events"
   ]
  },
  {
   "cell_type": "markdown",
   "metadata": {},
   "source": [
    "We plot it:"
   ]
  },
  {
   "cell_type": "code",
   "execution_count": 18,
   "metadata": {
    "collapsed": true
   },
   "outputs": [],
   "source": [
    "#Visualization made in Tableau"
   ]
  },
  {
   "cell_type": "code",
   "execution_count": 19,
   "metadata": {
    "collapsed": false
   },
   "outputs": [
    {
     "data": {
      "text/html": [
       "\n",
       "<div class='tableauPlaceholder' id='viz1488764758602' style='position: relative'><noscript><a href='#'><img alt='kills_attacks_dash ' src='https:&#47;&#47;public.tableau.com&#47;static&#47;images&#47;Te&#47;TerrorismAnalytics&#47;kills_attacks_dash&#47;1_rss.png' style='border: none' /></a></noscript><object class='tableauViz'  style='display:none;'><param name='host_url' value='https%3A%2F%2Fpublic.tableau.com%2F' /> <param name='site_root' value='' /><param name='name' value='TerrorismAnalytics&#47;kills_attacks_dash' /><param name='tabs' value='no' /><param name='toolbar' value='yes' /><param name='static_image' value='https:&#47;&#47;public.tableau.com&#47;static&#47;images&#47;Te&#47;TerrorismAnalytics&#47;kills_attacks_dash&#47;1.png' /> <param name='animate_transition' value='yes' /><param name='display_static_image' value='yes' /><param name='display_spinner' value='yes' /><param name='display_overlay' value='yes' /><param name='display_count' value='yes' /></object></div>                <script type='text/javascript'>                    var divElement = document.getElementById('viz1488764758602');                    var vizElement = divElement.getElementsByTagName('object')[0];                    vizElement.style.width='804px';vizElement.style.height='869px';                    var scriptElement = document.createElement('script');                    scriptElement.src = 'https://public.tableau.com/javascripts/api/viz_v1.js';                    vizElement.parentNode.insertBefore(scriptElement, vizElement);                </script>\n"
      ],
      "text/plain": [
       "<IPython.core.display.HTML object>"
      ]
     },
     "metadata": {},
     "output_type": "display_data"
    }
   ],
   "source": [
    "\n",
    "\n",
    "%%HTML\n",
    "\n",
    "<div class='tableauPlaceholder' id='viz1488764758602' style='position: relative'><noscript><a href='#'><img alt='kills_attacks_dash ' src='https:&#47;&#47;public.tableau.com&#47;static&#47;images&#47;Te&#47;TerrorismAnalytics&#47;kills_attacks_dash&#47;1_rss.png' style='border: none' /></a></noscript><object class='tableauViz'  style='display:none;'><param name='host_url' value='https%3A%2F%2Fpublic.tableau.com%2F' /> <param name='site_root' value='' /><param name='name' value='TerrorismAnalytics&#47;kills_attacks_dash' /><param name='tabs' value='no' /><param name='toolbar' value='yes' /><param name='static_image' value='https:&#47;&#47;public.tableau.com&#47;static&#47;images&#47;Te&#47;TerrorismAnalytics&#47;kills_attacks_dash&#47;1.png' /> <param name='animate_transition' value='yes' /><param name='display_static_image' value='yes' /><param name='display_spinner' value='yes' /><param name='display_overlay' value='yes' /><param name='display_count' value='yes' /></object></div>                <script type='text/javascript'>                    var divElement = document.getElementById('viz1488764758602');                    var vizElement = divElement.getElementsByTagName('object')[0];                    vizElement.style.width='804px';vizElement.style.height='869px';                    var scriptElement = document.createElement('script');                    scriptElement.src = 'https://public.tableau.com/javascripts/api/viz_v1.js';                    vizElement.parentNode.insertBefore(scriptElement, vizElement);                </script>\n",
    "\n"
   ]
  },
  {
   "cell_type": "markdown",
   "metadata": {},
   "source": [
    "From the graph, we can see that the as the number of attacks increases, the number of people killed increases too. There seems to be a direct relation between the number of people killed and the number of terrorist attacks. Let us explore this further, by calculating how many people die on average per attack:"
   ]
  },
  {
   "cell_type": "code",
   "execution_count": 20,
   "metadata": {
    "collapsed": false,
    "nbpresent": {
     "id": "cf863251-7960-493b-a88c-be7c95344cab"
    }
   },
   "outputs": [
    {
     "data": {
      "text/plain": [
       "<matplotlib.text.Text at 0x1f38a33def0>"
      ]
     },
     "execution_count": 20,
     "metadata": {},
     "output_type": "execute_result"
    },
    {
     "data": {
      "image/png": "[encoded data removed]",
      "text/plain": [
       "<matplotlib.figure.Figure at 0x1f39c0369e8>"
      ]
     },
     "metadata": {},
     "output_type": "display_data"
    }
   ],
   "source": [
    "#calculating the average\n",
    "attacks_kills = ter_filtered.groupby('iyear').aggregate({'eventid':len, 'nkill':np.sum})\n",
    "attacks_kills['Average kill'] = round(attacks_kills['eventid']/attacks_kills['nkill'],2)\n",
    "\n",
    "#plotting the results\n",
    "attacks_kills['Average kill'].plot(kind = 'bar', color = 'green')\n",
    "plt.title('Average Number of kills per attack')\n",
    "plt.xlabel('Years')\n",
    "plt.ylabel('Average Killed')"
   ]
  },
  {
   "cell_type": "markdown",
   "metadata": {},
   "source": [
    "As we can see, the average number of peopled killed by a terrorist attack dropped to less than one person from 1978 onwards. This can be explained by a big number of failed attemps and groups targeting infrastructure and utilities. Now, Which are the most common attack types?"
   ]
  },
  {
   "cell_type": "code",
   "execution_count": 21,
   "metadata": {
    "collapsed": false
   },
   "outputs": [
    {
     "data": {
      "text/html": [
       "\n",
       "<div class='tableauPlaceholder' id='viz1488780295806' style='position: relative'><noscript><a href='#'><img alt='Dashboard 7 ' src='https:&#47;&#47;public.tableau.com&#47;static&#47;images&#47;GT&#47;GTD_Final_Project&#47;Dashboard7&#47;1_rss.png' style='border: none' /></a></noscript><object class='tableauViz'  style='display:none;'><param name='host_url' value='https%3A%2F%2Fpublic.tableau.com%2F' /> <param name='site_root' value='' /><param name='name' value='GTD_Final_Project&#47;Dashboard7' /><param name='tabs' value='no' /><param name='toolbar' value='yes' /><param name='static_image' value='https:&#47;&#47;public.tableau.com&#47;static&#47;images&#47;GT&#47;GTD_Final_Project&#47;Dashboard7&#47;1.png' /> <param name='animate_transition' value='yes' /><param name='display_static_image' value='yes' /><param name='display_spinner' value='yes' /><param name='display_overlay' value='yes' /><param name='display_count' value='yes' /></object></div>                <script type='text/javascript'>                    var divElement = document.getElementById('viz1488780295806');                    var vizElement = divElement.getElementsByTagName('object')[0];                    vizElement.style.width='1004px';vizElement.style.height='319px';                    var scriptElement = document.createElement('script');                    scriptElement.src = 'https://public.tableau.com/javascripts/api/viz_v1.js';                    vizElement.parentNode.insertBefore(scriptElement, vizElement);                </script>"
      ],
      "text/plain": [
       "<IPython.core.display.HTML object>"
      ]
     },
     "metadata": {},
     "output_type": "display_data"
    }
   ],
   "source": [
    "%%HTML\n",
    "\n",
    "<div class='tableauPlaceholder' id='viz1488780295806' style='position: relative'><noscript><a href='#'><img alt='Dashboard 7 ' src='https:&#47;&#47;public.tableau.com&#47;static&#47;images&#47;GT&#47;GTD_Final_Project&#47;Dashboard7&#47;1_rss.png' style='border: none' /></a></noscript><object class='tableauViz'  style='display:none;'><param name='host_url' value='https%3A%2F%2Fpublic.tableau.com%2F' /> <param name='site_root' value='' /><param name='name' value='GTD_Final_Project&#47;Dashboard7' /><param name='tabs' value='no' /><param name='toolbar' value='yes' /><param name='static_image' value='https:&#47;&#47;public.tableau.com&#47;static&#47;images&#47;GT&#47;GTD_Final_Project&#47;Dashboard7&#47;1.png' /> <param name='animate_transition' value='yes' /><param name='display_static_image' value='yes' /><param name='display_spinner' value='yes' /><param name='display_overlay' value='yes' /><param name='display_count' value='yes' /></object></div>                <script type='text/javascript'>                    var divElement = document.getElementById('viz1488780295806');                    var vizElement = divElement.getElementsByTagName('object')[0];                    vizElement.style.width='1004px';vizElement.style.height='319px';                    var scriptElement = document.createElement('script');                    scriptElement.src = 'https://public.tableau.com/javascripts/api/viz_v1.js';                    vizElement.parentNode.insertBefore(scriptElement, vizElement);                </script>"
   ]
  },
  {
   "cell_type": "markdown",
   "metadata": {},
   "source": [
    "A massive number of attacks where committed using bombs and other types of explosions. Let's now look at what main attack types are employed by different groups:"
   ]
  },
  {
   "cell_type": "code",
   "execution_count": 22,
   "metadata": {
    "collapsed": true
   },
   "outputs": [],
   "source": [
    "# each division in the bar graph shows the name of the group and the number of attacks that the group commited"
   ]
  },
  {
   "cell_type": "code",
   "execution_count": 23,
   "metadata": {
    "collapsed": false
   },
   "outputs": [
    {
     "data": {
      "text/html": [
       "\n",
       "<div class='tableauPlaceholder' id='viz1488780442095' style='position: relative'><noscript><a href='#'><img alt='Dashboard 8 ' src='https:&#47;&#47;public.tableau.com&#47;static&#47;images&#47;GT&#47;GTD_Final_Project&#47;Dashboard8&#47;1_rss.png' style='border: none' /></a></noscript><object class='tableauViz'  style='display:none;'><param name='host_url' value='https%3A%2F%2Fpublic.tableau.com%2F' /> <param name='site_root' value='' /><param name='name' value='GTD_Final_Project&#47;Dashboard8' /><param name='tabs' value='no' /><param name='toolbar' value='yes' /><param name='static_image' value='https:&#47;&#47;public.tableau.com&#47;static&#47;images&#47;GT&#47;GTD_Final_Project&#47;Dashboard8&#47;1.png' /> <param name='animate_transition' value='yes' /><param name='display_static_image' value='yes' /><param name='display_spinner' value='yes' /><param name='display_overlay' value='yes' /><param name='display_count' value='yes' /></object></div>                <script type='text/javascript'>                    var divElement = document.getElementById('viz1488780442095');                    var vizElement = divElement.getElementsByTagName('object')[0];                    vizElement.style.width='1004px';vizElement.style.height='319px';                    var scriptElement = document.createElement('script');                    scriptElement.src = 'https://public.tableau.com/javascripts/api/viz_v1.js';                    vizElement.parentNode.insertBefore(scriptElement, vizElement);                </script>"
      ],
      "text/plain": [
       "<IPython.core.display.HTML object>"
      ]
     },
     "metadata": {},
     "output_type": "display_data"
    }
   ],
   "source": [
    "\n",
    "%%HTML\n",
    "\n",
    "<div class='tableauPlaceholder' id='viz1488780442095' style='position: relative'><noscript><a href='#'><img alt='Dashboard 8 ' src='https:&#47;&#47;public.tableau.com&#47;static&#47;images&#47;GT&#47;GTD_Final_Project&#47;Dashboard8&#47;1_rss.png' style='border: none' /></a></noscript><object class='tableauViz'  style='display:none;'><param name='host_url' value='https%3A%2F%2Fpublic.tableau.com%2F' /> <param name='site_root' value='' /><param name='name' value='GTD_Final_Project&#47;Dashboard8' /><param name='tabs' value='no' /><param name='toolbar' value='yes' /><param name='static_image' value='https:&#47;&#47;public.tableau.com&#47;static&#47;images&#47;GT&#47;GTD_Final_Project&#47;Dashboard8&#47;1.png' /> <param name='animate_transition' value='yes' /><param name='display_static_image' value='yes' /><param name='display_spinner' value='yes' /><param name='display_overlay' value='yes' /><param name='display_count' value='yes' /></object></div>                <script type='text/javascript'>                    var divElement = document.getElementById('viz1488780442095');                    var vizElement = divElement.getElementsByTagName('object')[0];                    vizElement.style.width='1004px';vizElement.style.height='319px';                    var scriptElement = document.createElement('script');                    scriptElement.src = 'https://public.tableau.com/javascripts/api/viz_v1.js';                    vizElement.parentNode.insertBefore(scriptElement, vizElement);                </script>"
   ]
  },
  {
   "cell_type": "markdown",
   "metadata": {},
   "source": [
    "Exploring the graph above, we can see that the groups with the highest numbers of attacks use bombing and explosions as their main resource. So, what weapons are used mostly? (The size of the bubble corresponds to the number of attacks where the weapon was employed)"
   ]
  },
  {
   "cell_type": "code",
   "execution_count": 24,
   "metadata": {
    "collapsed": false
   },
   "outputs": [
    {
     "data": {
      "text/html": [
       "\n",
       "<div class='tableauPlaceholder' id='viz1488781388700' style='position: relative'><noscript><a href='#'><img alt='Dashboard 13 ' src='https:&#47;&#47;public.tableau.com&#47;static&#47;images&#47;GT&#47;GTD_Final_Project&#47;Dashboard13&#47;1_rss.png' style='border: none' /></a></noscript><object class='tableauViz'  style='display:none;'><param name='host_url' value='https%3A%2F%2Fpublic.tableau.com%2F' /> <param name='site_root' value='' /><param name='name' value='GTD_Final_Project&#47;Dashboard13' /><param name='tabs' value='no' /><param name='toolbar' value='yes' /><param name='static_image' value='https:&#47;&#47;public.tableau.com&#47;static&#47;images&#47;GT&#47;GTD_Final_Project&#47;Dashboard13&#47;1.png' /> <param name='animate_transition' value='yes' /><param name='display_static_image' value='yes' /><param name='display_spinner' value='yes' /><param name='display_overlay' value='yes' /><param name='display_count' value='yes' /></object></div>                <script type='text/javascript'>                    var divElement = document.getElementById('viz1488781388700');                    var vizElement = divElement.getElementsByTagName('object')[0];                    vizElement.style.width='1004px';vizElement.style.height='869px';                    var scriptElement = document.createElement('script');                    scriptElement.src = 'https://public.tableau.com/javascripts/api/viz_v1.js';                    vizElement.parentNode.insertBefore(scriptElement, vizElement);                </script>"
      ],
      "text/plain": [
       "<IPython.core.display.HTML object>"
      ]
     },
     "metadata": {},
     "output_type": "display_data"
    }
   ],
   "source": [
    "%%HTML\n",
    "\n",
    "<div class='tableauPlaceholder' id='viz1488781388700' style='position: relative'><noscript><a href='#'><img alt='Dashboard 13 ' src='https:&#47;&#47;public.tableau.com&#47;static&#47;images&#47;GT&#47;GTD_Final_Project&#47;Dashboard13&#47;1_rss.png' style='border: none' /></a></noscript><object class='tableauViz'  style='display:none;'><param name='host_url' value='https%3A%2F%2Fpublic.tableau.com%2F' /> <param name='site_root' value='' /><param name='name' value='GTD_Final_Project&#47;Dashboard13' /><param name='tabs' value='no' /><param name='toolbar' value='yes' /><param name='static_image' value='https:&#47;&#47;public.tableau.com&#47;static&#47;images&#47;GT&#47;GTD_Final_Project&#47;Dashboard13&#47;1.png' /> <param name='animate_transition' value='yes' /><param name='display_static_image' value='yes' /><param name='display_spinner' value='yes' /><param name='display_overlay' value='yes' /><param name='display_count' value='yes' /></object></div>                <script type='text/javascript'>                    var divElement = document.getElementById('viz1488781388700');                    var vizElement = divElement.getElementsByTagName('object')[0];                    vizElement.style.width='1004px';vizElement.style.height='869px';                    var scriptElement = document.createElement('script');                    scriptElement.src = 'https://public.tableau.com/javascripts/api/viz_v1.js';                    vizElement.parentNode.insertBefore(scriptElement, vizElement);                </script>"
   ]
  },
  {
   "cell_type": "markdown",
   "metadata": {},
   "source": [
    "We now know that this groups mostly employ explosives and firearms. Now, let us take a look at what weapon types are the most used by each group."
   ]
  },
  {
   "cell_type": "code",
   "execution_count": 25,
   "metadata": {
    "collapsed": false
   },
   "outputs": [
    {
     "data": {
      "text/html": [
       "\n",
       "<div class='tableauPlaceholder' id='viz1488780991384' style='position: relative'><noscript><a href='#'><img alt='Dashboard 9 ' src='https:&#47;&#47;public.tableau.com&#47;static&#47;images&#47;GT&#47;GTD_Final_Project&#47;Dashboard9&#47;1_rss.png' style='border: none' /></a></noscript><object class='tableauViz'  style='display:none;'><param name='host_url' value='https%3A%2F%2Fpublic.tableau.com%2F' /> <param name='site_root' value='' /><param name='name' value='GTD_Final_Project&#47;Dashboard9' /><param name='tabs' value='no' /><param name='toolbar' value='yes' /><param name='static_image' value='https:&#47;&#47;public.tableau.com&#47;static&#47;images&#47;GT&#47;GTD_Final_Project&#47;Dashboard9&#47;1.png' /> <param name='animate_transition' value='yes' /><param name='display_static_image' value='yes' /><param name='display_spinner' value='yes' /><param name='display_overlay' value='yes' /><param name='display_count' value='yes' /></object></div>                <script type='text/javascript'>                    var divElement = document.getElementById('viz1488780991384');                    var vizElement = divElement.getElementsByTagName('object')[0];                    vizElement.style.width='1004px';vizElement.style.height='669px';                    var scriptElement = document.createElement('script');                    scriptElement.src = 'https://public.tableau.com/javascripts/api/viz_v1.js';                    vizElement.parentNode.insertBefore(scriptElement, vizElement);                </script>"
      ],
      "text/plain": [
       "<IPython.core.display.HTML object>"
      ]
     },
     "metadata": {},
     "output_type": "display_data"
    }
   ],
   "source": [
    "%%HTML\n",
    "\n",
    "<div class='tableauPlaceholder' id='viz1488780991384' style='position: relative'><noscript><a href='#'><img alt='Dashboard 9 ' src='https:&#47;&#47;public.tableau.com&#47;static&#47;images&#47;GT&#47;GTD_Final_Project&#47;Dashboard9&#47;1_rss.png' style='border: none' /></a></noscript><object class='tableauViz'  style='display:none;'><param name='host_url' value='https%3A%2F%2Fpublic.tableau.com%2F' /> <param name='site_root' value='' /><param name='name' value='GTD_Final_Project&#47;Dashboard9' /><param name='tabs' value='no' /><param name='toolbar' value='yes' /><param name='static_image' value='https:&#47;&#47;public.tableau.com&#47;static&#47;images&#47;GT&#47;GTD_Final_Project&#47;Dashboard9&#47;1.png' /> <param name='animate_transition' value='yes' /><param name='display_static_image' value='yes' /><param name='display_spinner' value='yes' /><param name='display_overlay' value='yes' /><param name='display_count' value='yes' /></object></div>                <script type='text/javascript'>                    var divElement = document.getElementById('viz1488780991384');                    var vizElement = divElement.getElementsByTagName('object')[0];                    vizElement.style.width='1004px';vizElement.style.height='669px';                    var scriptElement = document.createElement('script');                    scriptElement.src = 'https://public.tableau.com/javascripts/api/viz_v1.js';                    vizElement.parentNode.insertBefore(scriptElement, vizElement);                </script>"
   ]
  },
  {
   "cell_type": "markdown",
   "metadata": {},
   "source": [
    "From the bar graph above, we can see that groups in the Middle East (Taliban, ISIL, Al-Qaida) employ a more diverse set of weapons than groups in other regions. In contrast, the largest group in South America (Shining Path), employs only one type of weapon.\n",
    "\n",
    "So far, we have discussed and explored some global trends in terrorism. Next, we will follow the story of two terrorist groups from the South and Central American regions: Shining Path and Farabundo Marti National Liberation Front (FMLN). We will see how they emerged and declined, their common practices and the impact on their respective countries."
   ]
  },
  {
   "cell_type": "markdown",
   "metadata": {
    "nbpresent": {
     "id": "0b4a9e70-fb01-482c-a5b1-2527f9afe1dd"
    }
   },
   "source": [
    "# The Shining Path (Sendero Luminoso) of Peru"
   ]
  },
  {
   "cell_type": "markdown",
   "metadata": {
    "nbpresent": {
     "id": "914a380d-18b0-4332-b768-69b87b707bd9"
    }
   },
   "source": [
    "Shining Path is a terrorist group located in region 3, corresponding to South America. So first, we are interested in seeing the attacks committed in region 3. Let us see the number of attacks through the years."
   ]
  },
  {
   "cell_type": "code",
   "execution_count": 26,
   "metadata": {
    "collapsed": true
   },
   "outputs": [],
   "source": [
    "#ter_filtered[ter_filtered['region'] == '3'].groupby('iyear').size().plot( color = 'red')"
   ]
  },
  {
   "cell_type": "code",
   "execution_count": 27,
   "metadata": {
    "collapsed": false,
    "nbpresent": {
     "id": "6f28ad49-9fc5-42f9-a07b-978daa683b78"
    }
   },
   "outputs": [
    {
     "data": {
      "text/html": [
       "\n",
       "<div class='tableauPlaceholder' id='viz1488779958334' style='position: relative'><noscript><a href='#'><img alt='Dashboard 6 ' src='https:&#47;&#47;public.tableau.com&#47;static&#47;images&#47;GT&#47;GTD_Final_Project&#47;Dashboard6&#47;1_rss.png' style='border: none' /></a></noscript><object class='tableauViz'  style='display:none;'><param name='host_url' value='https%3A%2F%2Fpublic.tableau.com%2F' /> <param name='site_root' value='' /><param name='name' value='GTD_Final_Project&#47;Dashboard6' /><param name='tabs' value='no' /><param name='toolbar' value='yes' /><param name='static_image' value='https:&#47;&#47;public.tableau.com&#47;static&#47;images&#47;GT&#47;GTD_Final_Project&#47;Dashboard6&#47;1.png' /> <param name='animate_transition' value='yes' /><param name='display_static_image' value='yes' /><param name='display_spinner' value='yes' /><param name='display_overlay' value='yes' /><param name='display_count' value='yes' /></object></div>                <script type='text/javascript'>                    var divElement = document.getElementById('viz1488779958334');                    var vizElement = divElement.getElementsByTagName('object')[0];                    vizElement.style.width='1004px';vizElement.style.height='869px';                    var scriptElement = document.createElement('script');                    scriptElement.src = 'https://public.tableau.com/javascripts/api/viz_v1.js';                    vizElement.parentNode.insertBefore(scriptElement, vizElement);                </script>"
      ],
      "text/plain": [
       "<IPython.core.display.HTML object>"
      ]
     },
     "metadata": {},
     "output_type": "display_data"
    }
   ],
   "source": [
    "%%HTML\n",
    "\n",
    "<div class='tableauPlaceholder' id='viz1488779958334' style='position: relative'><noscript><a href='#'><img alt='Dashboard 6 ' src='https:&#47;&#47;public.tableau.com&#47;static&#47;images&#47;GT&#47;GTD_Final_Project&#47;Dashboard6&#47;1_rss.png' style='border: none' /></a></noscript><object class='tableauViz'  style='display:none;'><param name='host_url' value='https%3A%2F%2Fpublic.tableau.com%2F' /> <param name='site_root' value='' /><param name='name' value='GTD_Final_Project&#47;Dashboard6' /><param name='tabs' value='no' /><param name='toolbar' value='yes' /><param name='static_image' value='https:&#47;&#47;public.tableau.com&#47;static&#47;images&#47;GT&#47;GTD_Final_Project&#47;Dashboard6&#47;1.png' /> <param name='animate_transition' value='yes' /><param name='display_static_image' value='yes' /><param name='display_spinner' value='yes' /><param name='display_overlay' value='yes' /><param name='display_count' value='yes' /></object></div>                <script type='text/javascript'>                    var divElement = document.getElementById('viz1488779958334');                    var vizElement = divElement.getElementsByTagName('object')[0];                    vizElement.style.width='1004px';vizElement.style.height='869px';                    var scriptElement = document.createElement('script');                    scriptElement.src = 'https://public.tableau.com/javascripts/api/viz_v1.js';                    vizElement.parentNode.insertBefore(scriptElement, vizElement);                </script>"
   ]
  },
  {
   "cell_type": "markdown",
   "metadata": {
    "nbpresent": {
     "id": "5660dead-36b4-49b8-8381-a1507a524f86"
    }
   },
   "source": [
    "It appears there is a strong activity between the second half of the 1970's and the first half of the 1990's, followed by a large decline. Lets see which groups in this region were more active:\n"
   ]
  },
  {
   "cell_type": "markdown",
   "metadata": {},
   "source": [
    "The graph below shows the number of attacks for each group. The colors represent the number of people killed by each group (darker meaning more kills)"
   ]
  },
  {
   "cell_type": "code",
   "execution_count": 28,
   "metadata": {
    "collapsed": false,
    "nbpresent": {
     "id": "338b293f-5348-417f-b19c-c65092f9fbab"
    }
   },
   "outputs": [
    {
     "data": {
      "text/html": [
       "\n",
       "<div class='tableauPlaceholder' id='viz1488767130689' style='position: relative'><noscript><a href='#'><img alt='GroupsSouthAmerica_dash ' src='https:&#47;&#47;public.tableau.com&#47;static&#47;images&#47;Te&#47;TerrorismAnalytics&#47;GroupsSouthAmerica_dash&#47;1_rss.png' style='border: none' /></a></noscript><object class='tableauViz'  style='display:none;'><param name='host_url' value='https%3A%2F%2Fpublic.tableau.com%2F' /> <param name='site_root' value='' /><param name='name' value='TerrorismAnalytics&#47;GroupsSouthAmerica_dash' /><param name='tabs' value='no' /><param name='toolbar' value='yes' /><param name='static_image' value='https:&#47;&#47;public.tableau.com&#47;static&#47;images&#47;Te&#47;TerrorismAnalytics&#47;GroupsSouthAmerica_dash&#47;1.png' /> <param name='animate_transition' value='yes' /><param name='display_static_image' value='yes' /><param name='display_spinner' value='yes' /><param name='display_overlay' value='yes' /><param name='display_count' value='yes' /></object></div>                <script type='text/javascript'>                    var divElement = document.getElementById('viz1488767130689');                    var vizElement = divElement.getElementsByTagName('object')[0];                    vizElement.style.width='1004px';vizElement.style.height='869px';                    var scriptElement = document.createElement('script');                    scriptElement.src = 'https://public.tableau.com/javascripts/api/viz_v1.js';                    vizElement.parentNode.insertBefore(scriptElement, vizElement);                </script>"
      ],
      "text/plain": [
       "<IPython.core.display.HTML object>"
      ]
     },
     "metadata": {},
     "output_type": "display_data"
    }
   ],
   "source": [
    "%%HTML\n",
    "\n",
    "<div class='tableauPlaceholder' id='viz1488767130689' style='position: relative'><noscript><a href='#'><img alt='GroupsSouthAmerica_dash ' src='https:&#47;&#47;public.tableau.com&#47;static&#47;images&#47;Te&#47;TerrorismAnalytics&#47;GroupsSouthAmerica_dash&#47;1_rss.png' style='border: none' /></a></noscript><object class='tableauViz'  style='display:none;'><param name='host_url' value='https%3A%2F%2Fpublic.tableau.com%2F' /> <param name='site_root' value='' /><param name='name' value='TerrorismAnalytics&#47;GroupsSouthAmerica_dash' /><param name='tabs' value='no' /><param name='toolbar' value='yes' /><param name='static_image' value='https:&#47;&#47;public.tableau.com&#47;static&#47;images&#47;Te&#47;TerrorismAnalytics&#47;GroupsSouthAmerica_dash&#47;1.png' /> <param name='animate_transition' value='yes' /><param name='display_static_image' value='yes' /><param name='display_spinner' value='yes' /><param name='display_overlay' value='yes' /><param name='display_count' value='yes' /></object></div>                <script type='text/javascript'>                    var divElement = document.getElementById('viz1488767130689');                    var vizElement = divElement.getElementsByTagName('object')[0];                    vizElement.style.width='1004px';vizElement.style.height='869px';                    var scriptElement = document.createElement('script');                    scriptElement.src = 'https://public.tableau.com/javascripts/api/viz_v1.js';                    vizElement.parentNode.insertBefore(scriptElement, vizElement);                </script>"
   ]
  },
  {
   "cell_type": "markdown",
   "metadata": {
    "nbpresent": {
     "id": "6f56c1f2-d95b-4c53-bfed-a00ceac6a08e"
    }
   },
   "source": [
    "We can see that the deadliest group (most number of kills) and with the most number of attacks correspond to the Shining Path (Sendero Luminoso) of Peru.  Now, lets look at the number of attacks through the years for this particular group:"
   ]
  },
  {
   "cell_type": "code",
   "execution_count": 29,
   "metadata": {
    "collapsed": false,
    "nbpresent": {
     "id": "58df39c2-75fb-4e28-a431-79088b346d62"
    }
   },
   "outputs": [
    {
     "data": {
      "text/plain": [
       "iyear\n",
       "1978      1\n",
       "1979      1\n",
       "1980     24\n",
       "1981     85\n",
       "1982    243\n",
       "dtype: int64"
      ]
     },
     "execution_count": 29,
     "metadata": {},
     "output_type": "execute_result"
    }
   ],
   "source": [
    "ter_filtered[ter_filtered['gname'] == 'Shining Path (SL)'].groupby('iyear').size().head()\n",
    "#plt.title('Number of Terrorist Attacks in the Dataset through the years')\n",
    "#plt.xlabel('Years')\n",
    "#plt.ylabel('# of attacks')\n",
    "\n"
   ]
  },
  {
   "cell_type": "code",
   "execution_count": 30,
   "metadata": {
    "collapsed": false
   },
   "outputs": [
    {
     "data": {
      "text/html": [
       "\n",
       "<div class='tableauPlaceholder' id='viz1488772905780' style='position: relative'><noscript><a href='#'><img alt='Dashboard 3 ' src='https:&#47;&#47;public.tableau.com&#47;static&#47;images&#47;GT&#47;GTD_Final_Project&#47;Dashboard3&#47;1_rss.png' style='border: none' /></a></noscript><object class='tableauViz'  style='display:none;'><param name='host_url' value='https%3A%2F%2Fpublic.tableau.com%2F' /> <param name='site_root' value='' /><param name='name' value='GTD_Final_Project&#47;Dashboard3' /><param name='tabs' value='no' /><param name='toolbar' value='yes' /><param name='static_image' value='https:&#47;&#47;public.tableau.com&#47;static&#47;images&#47;GT&#47;GTD_Final_Project&#47;Dashboard3&#47;1.png' /> <param name='animate_transition' value='yes' /><param name='display_static_image' value='yes' /><param name='display_spinner' value='yes' /><param name='display_overlay' value='yes' /><param name='display_count' value='yes' /></object></div>                <script type='text/javascript'>                    var divElement = document.getElementById('viz1488772905780');                    var vizElement = divElement.getElementsByTagName('object')[0];                    vizElement.style.width='1004px';vizElement.style.height='869px';                    var scriptElement = document.createElement('script');                    scriptElement.src = 'https://public.tableau.com/javascripts/api/viz_v1.js';                    vizElement.parentNode.insertBefore(scriptElement, vizElement);                </script>"
      ],
      "text/plain": [
       "<IPython.core.display.HTML object>"
      ]
     },
     "metadata": {},
     "output_type": "display_data"
    }
   ],
   "source": [
    "%%HTML\n",
    "\n",
    "<div class='tableauPlaceholder' id='viz1488772905780' style='position: relative'><noscript><a href='#'><img alt='Dashboard 3 ' src='https:&#47;&#47;public.tableau.com&#47;static&#47;images&#47;GT&#47;GTD_Final_Project&#47;Dashboard3&#47;1_rss.png' style='border: none' /></a></noscript><object class='tableauViz'  style='display:none;'><param name='host_url' value='https%3A%2F%2Fpublic.tableau.com%2F' /> <param name='site_root' value='' /><param name='name' value='GTD_Final_Project&#47;Dashboard3' /><param name='tabs' value='no' /><param name='toolbar' value='yes' /><param name='static_image' value='https:&#47;&#47;public.tableau.com&#47;static&#47;images&#47;GT&#47;GTD_Final_Project&#47;Dashboard3&#47;1.png' /> <param name='animate_transition' value='yes' /><param name='display_static_image' value='yes' /><param name='display_spinner' value='yes' /><param name='display_overlay' value='yes' /><param name='display_count' value='yes' /></object></div>                <script type='text/javascript'>                    var divElement = document.getElementById('viz1488772905780');                    var vizElement = divElement.getElementsByTagName('object')[0];                    vizElement.style.width='1004px';vizElement.style.height='869px';                    var scriptElement = document.createElement('script');                    scriptElement.src = 'https://public.tableau.com/javascripts/api/viz_v1.js';                    vizElement.parentNode.insertBefore(scriptElement, vizElement);                </script>"
   ]
  },
  {
   "cell_type": "markdown",
   "metadata": {
    "nbpresent": {
     "id": "c7e0df57-31e9-4a3f-895f-2ada8efa97df"
    }
   },
   "source": [
    "We want to know how this group spread through the territory in Peru, so lets map our events and see how they took place across the years (click on the link to go to animation):"
   ]
  },
  {
   "cell_type": "code",
   "execution_count": 31,
   "metadata": {
    "collapsed": false,
    "nbpresent": {
     "id": "9c7b8a0e-bc23-4765-ac6e-0b037e57885c"
    }
   },
   "outputs": [
    {
     "data": {
      "text/html": [
       "\n",
       "<blockquote class=\"embedly-card\"><h4><a href=\"https://joseedu.github.io/project1SP/\">Shining Path Attacks (Animation)\n",
       "</a></h4><p>null</p></blockquote>\n",
       "<script async src=\"//cdn.embedly.com/widgets/platform.js\" charset=\"UTF-8\"></script>"
      ],
      "text/plain": [
       "<IPython.core.display.HTML object>"
      ]
     },
     "metadata": {},
     "output_type": "display_data"
    }
   ],
   "source": [
    "%%HTML\n",
    "\n",
    "<blockquote class=\"embedly-card\"><h4><a href=\"https://joseedu.github.io/project1SP/\">Shining Path Attacks (Animation)\n",
    "</a></h4><p>null</p></blockquote>\n",
    "<script async src=\"//cdn.embedly.com/widgets/platform.js\" charset=\"UTF-8\"></script>"
   ]
  },
  {
   "cell_type": "markdown",
   "metadata": {
    "nbpresent": {
     "id": "09f080dc-c018-4944-a9f0-03b2fc7c4c77"
    }
   },
   "source": [
    "From the animation, we can see that the regions along the cost of Peru are the ones with larger concentration of attacks, particularly in the Ayacucho Region. Lets look again at the number of attacks for this regions:"
   ]
  },
  {
   "cell_type": "code",
   "execution_count": 32,
   "metadata": {
    "collapsed": false,
    "nbpresent": {
     "id": "8718606d-8c3a-493a-88f0-86bab4ac4751"
    }
   },
   "outputs": [
    {
     "data": {
      "text/plain": [
       "provstate\n",
       "Lima        1539\n",
       "Ayacucho     823\n",
       "Junin        399\n",
       "Unknown      202\n",
       "Ancash       147\n",
       "dtype: int64"
      ]
     },
     "execution_count": 32,
     "metadata": {},
     "output_type": "execute_result"
    }
   ],
   "source": [
    "sp_attacks_states = ter_filtered[ter_filtered['gname'] == 'Shining Path (SL)'].groupby('provstate').size()\n",
    "sp_attacks_states.sort_values(ascending = False).head(5)"
   ]
  },
  {
   "cell_type": "code",
   "execution_count": 33,
   "metadata": {
    "collapsed": false,
    "nbpresent": {
     "id": "c58ae962-13aa-4bd9-841b-91076a21f918"
    }
   },
   "outputs": [
    {
     "data": {
      "text/html": [
       "<div class='tableauPlaceholder' id='viz1488768088419' style='position: relative'><noscript><a href='#'><img alt='AttacksPeruRegion_dash ' src='https:&#47;&#47;public.tableau.com&#47;static&#47;images&#47;Te&#47;TerrorismAnalytics&#47;AttacksPeruRegion_dash&#47;1_rss.png' style='border: none' /></a></noscript><object class='tableauViz'  style='display:none;'><param name='host_url' value='https%3A%2F%2Fpublic.tableau.com%2F' /> <param name='site_root' value='' /><param name='name' value='TerrorismAnalytics&#47;AttacksPeruRegion_dash' /><param name='tabs' value='no' /><param name='toolbar' value='yes' /><param name='static_image' value='https:&#47;&#47;public.tableau.com&#47;static&#47;images&#47;Te&#47;TerrorismAnalytics&#47;AttacksPeruRegion_dash&#47;1.png' /> <param name='animate_transition' value='yes' /><param name='display_static_image' value='yes' /><param name='display_spinner' value='yes' /><param name='display_overlay' value='yes' /><param name='display_count' value='yes' /></object></div>                <script type='text/javascript'>                    var divElement = document.getElementById('viz1488768088419');                    var vizElement = divElement.getElementsByTagName('object')[0];                    vizElement.style.width='1004px';vizElement.style.height='869px';                    var scriptElement = document.createElement('script');                    scriptElement.src = 'https://public.tableau.com/javascripts/api/viz_v1.js';                    vizElement.parentNode.insertBefore(scriptElement, vizElement);                </script>"
      ],
      "text/plain": [
       "<IPython.core.display.HTML object>"
      ]
     },
     "metadata": {},
     "output_type": "display_data"
    }
   ],
   "source": [
    "%%HTML\n",
    "<div class='tableauPlaceholder' id='viz1488768088419' style='position: relative'><noscript><a href='#'><img alt='AttacksPeruRegion_dash ' src='https:&#47;&#47;public.tableau.com&#47;static&#47;images&#47;Te&#47;TerrorismAnalytics&#47;AttacksPeruRegion_dash&#47;1_rss.png' style='border: none' /></a></noscript><object class='tableauViz'  style='display:none;'><param name='host_url' value='https%3A%2F%2Fpublic.tableau.com%2F' /> <param name='site_root' value='' /><param name='name' value='TerrorismAnalytics&#47;AttacksPeruRegion_dash' /><param name='tabs' value='no' /><param name='toolbar' value='yes' /><param name='static_image' value='https:&#47;&#47;public.tableau.com&#47;static&#47;images&#47;Te&#47;TerrorismAnalytics&#47;AttacksPeruRegion_dash&#47;1.png' /> <param name='animate_transition' value='yes' /><param name='display_static_image' value='yes' /><param name='display_spinner' value='yes' /><param name='display_overlay' value='yes' /><param name='display_count' value='yes' /></object></div>                <script type='text/javascript'>                    var divElement = document.getElementById('viz1488768088419');                    var vizElement = divElement.getElementsByTagName('object')[0];                    vizElement.style.width='1004px';vizElement.style.height='869px';                    var scriptElement = document.createElement('script');                    scriptElement.src = 'https://public.tableau.com/javascripts/api/viz_v1.js';                    vizElement.parentNode.insertBefore(scriptElement, vizElement);                </script>"
   ]
  },
  {
   "cell_type": "markdown",
   "metadata": {},
   "source": [
    "It makes sense that Lima, being the capital, was heavily attacked. It turns out that Ayacucho, the state with the larger number of kills, was selected as the base of operations for the Shining Path Group. "
   ]
  },
  {
   "cell_type": "markdown",
   "metadata": {},
   "source": [
    "* Interesting fact: If we look at the monthly attacks across all years, we can see that there appears to be more activity from the group during the 5th and 7th month. These months correspond to the months after elections take place in Peru:"
   ]
  },
  {
   "cell_type": "code",
   "execution_count": 34,
   "metadata": {
    "collapsed": false
   },
   "outputs": [
    {
     "data": {
      "text/html": [
       "\n",
       "<div class='tableauPlaceholder' id='viz1488767251582' style='position: relative'><noscript><a href='#'><img alt='Shining Path: Number of attacks and Victims by Month ' src='https:&#47;&#47;public.tableau.com&#47;static&#47;images&#47;Te&#47;TerrorismAnalytics&#47;Monthly_Attacks&#47;1_rss.png' style='border: none' /></a></noscript><object class='tableauViz'  style='display:none;'><param name='host_url' value='https%3A%2F%2Fpublic.tableau.com%2F' /> <param name='site_root' value='' /><param name='name' value='TerrorismAnalytics&#47;Monthly_Attacks' /><param name='tabs' value='no' /><param name='toolbar' value='yes' /><param name='static_image' value='https:&#47;&#47;public.tableau.com&#47;static&#47;images&#47;Te&#47;TerrorismAnalytics&#47;Monthly_Attacks&#47;1.png' /> <param name='animate_transition' value='yes' /><param name='display_static_image' value='yes' /><param name='display_spinner' value='yes' /><param name='display_overlay' value='yes' /><param name='display_count' value='yes' /></object></div>                <script type='text/javascript'>                    var divElement = document.getElementById('viz1488767251582');                    var vizElement = divElement.getElementsByTagName('object')[0];                    vizElement.style.width='100%';vizElement.style.height=(divElement.offsetWidth*0.75)+'px';                    var scriptElement = document.createElement('script');                    scriptElement.src = 'https://public.tableau.com/javascripts/api/viz_v1.js';                    vizElement.parentNode.insertBefore(scriptElement, vizElement);                </script>"
      ],
      "text/plain": [
       "<IPython.core.display.HTML object>"
      ]
     },
     "metadata": {},
     "output_type": "display_data"
    }
   ],
   "source": [
    "%%HTML\n",
    "\n",
    "<div class='tableauPlaceholder' id='viz1488767251582' style='position: relative'><noscript><a href='#'><img alt='Shining Path: Number of attacks and Victims by Month ' src='https:&#47;&#47;public.tableau.com&#47;static&#47;images&#47;Te&#47;TerrorismAnalytics&#47;Monthly_Attacks&#47;1_rss.png' style='border: none' /></a></noscript><object class='tableauViz'  style='display:none;'><param name='host_url' value='https%3A%2F%2Fpublic.tableau.com%2F' /> <param name='site_root' value='' /><param name='name' value='TerrorismAnalytics&#47;Monthly_Attacks' /><param name='tabs' value='no' /><param name='toolbar' value='yes' /><param name='static_image' value='https:&#47;&#47;public.tableau.com&#47;static&#47;images&#47;Te&#47;TerrorismAnalytics&#47;Monthly_Attacks&#47;1.png' /> <param name='animate_transition' value='yes' /><param name='display_static_image' value='yes' /><param name='display_spinner' value='yes' /><param name='display_overlay' value='yes' /><param name='display_count' value='yes' /></object></div>                <script type='text/javascript'>                    var divElement = document.getElementById('viz1488767251582');                    var vizElement = divElement.getElementsByTagName('object')[0];                    vizElement.style.width='100%';vizElement.style.height=(divElement.offsetWidth*0.75)+'px';                    var scriptElement = document.createElement('script');                    scriptElement.src = 'https://public.tableau.com/javascripts/api/viz_v1.js';                    vizElement.parentNode.insertBefore(scriptElement, vizElement);                </script>"
   ]
  },
  {
   "cell_type": "markdown",
   "metadata": {
    "nbpresent": {
     "id": "2a8e56d9-91a1-4f2b-b53e-cb47ad656170"
    }
   },
   "source": [
    "If we look at the range of dates of the attacks, we can observe a peak in the late 80's, and then practically a drop to almost zero in the first years of the 90's. To be sure, let's find the years with major drops:"
   ]
  },
  {
   "cell_type": "code",
   "execution_count": 35,
   "metadata": {
    "collapsed": false,
    "nbpresent": {
     "id": "6ea79cbd-94ff-4e35-a211-d72810f7b18c"
    }
   },
   "outputs": [
    {
     "data": {
      "text/plain": [
       "<matplotlib.axes._subplots.AxesSubplot at 0x1f38a392da0>"
      ]
     },
     "execution_count": 35,
     "metadata": {},
     "output_type": "execute_result"
    },
    {
     "data": {
      "image/png": "[encoded data removed]",
      "text/plain": [
       "<matplotlib.figure.Figure at 0x1f38a4525c0>"
      ]
     },
     "metadata": {},
     "output_type": "display_data"
    }
   ],
   "source": [
    "sp_attacks = ter_filtered[ter_filtered['gname'] == 'Shining Path (SL)'].groupby('iyear').size()\n",
    "sp_attacks.cumsum().plot(color = 'red')"
   ]
  },
  {
   "cell_type": "markdown",
   "metadata": {
    "nbpresent": {
     "id": "9a31d51a-996e-4334-a7e1-f3fcf1b8cc1e"
    }
   },
   "source": [
    "From the graph, we can see there are some interesting years where the difference between attacks was greater with previous years. Let us look at what caused the number of attacks to decrease drastically in 1992."
   ]
  },
  {
   "cell_type": "markdown",
   "metadata": {
    "nbpresent": {
     "id": "3e4a3800-fabd-4bed-9d66-e3d93961222c"
    }
   },
   "source": [
    "### What happened? To answer this question, we will look at wikipedia!"
   ]
  },
  {
   "cell_type": "markdown",
   "metadata": {
    "nbpresent": {
     "id": "f27df8e7-b717-4c4d-889d-4871b3444606"
    }
   },
   "source": [
    "We will use information from the Years pages in Wikipedia (english and spanish) to see what major events happened in Peru in the years we found interesting changes in the data. We will make use of Wikipedias API and wptools to get the data we are looking for:"
   ]
  },
  {
   "cell_type": "code",
   "execution_count": 36,
   "metadata": {
    "collapsed": false,
    "nbpresent": {
     "id": "379ffeab-17e2-4aa0-bde3-5401a65b23ca"
    }
   },
   "outputs": [],
   "source": [
    "#We will use wptools to get the information for the year in wikipedia \n",
    "\n",
    "import wptools\n",
    "import re\n",
    " \n",
    "#the following function gets the wikipedia page of a year given as argument, and creates a dictionary\n",
    "#with all the events listed in wikipedia for the given year page, where the key and value are structured as:\n",
    "#'Month day': event\n",
    "\n",
    "def wiki_search(year, language):\n",
    "    wiki_year = wptools.page(year,lang = language).get()\n",
    " \n",
    "    days1 = wiki_year.wikitext.split('\\n* [[')\n",
    "    days2 = wiki_year.wikitext.split('\\n*[[')\n",
    "    \n",
    "    if len(days1) > len(days2):\n",
    "        days = days1\n",
    "    else:\n",
    "        days = days2\n",
    "    \n",
    "    days = [re.sub(r'[^\\w.]', ' ', day) for day in days]\n",
    "\n",
    "    # Lets use a regular expression to match a date string\n",
    "    # in the form of Month name followed by day number\n",
    "    if language == 'en':\n",
    "        regex = r\"([a-zA-Z]+) (\\d+)\"\n",
    "    else:\n",
    "        regex = r\"(\\d+) ([de]+) ([a-zA-Z]+)\"\n",
    "    \n",
    "    days_tuples = [((re.search(regex, day)).group(0), re.sub(regex, '', day)) if (re.search(regex, day)) is not None else (\"\",\"\") for day in days]\n",
    "    days_dic = {}\n",
    "    for k,v in days_tuples:\n",
    "        if k not in days_dic.keys():\n",
    "            days_dic[k] = v\n",
    "    return days_dic\n"
   ]
  },
  {
   "cell_type": "markdown",
   "metadata": {
    "nbpresent": {
     "id": "5d907cb1-725c-49a6-860e-64137bfae4d0"
    }
   },
   "source": [
    "Now, we will create a dictionary of dates for the year of interest, and look if we can find anything related to the group:\n"
   ]
  },
  {
   "cell_type": "code",
   "execution_count": 37,
   "metadata": {
    "collapsed": false,
    "nbpresent": {
     "id": "1128eae9-6771-48d2-8b07-18fdc81ffbb6"
    }
   },
   "outputs": [
    {
     "name": "stderr",
     "output_type": "stream",
     "text": [
      "1992 (en)\n",
      "{\n",
      "  lang: en\n",
      "  title: 1992\n",
      "}\n",
      "en.wikipedia.org (query) 1992\n",
      "en.wikipedia.org (parse) 34669\n",
      "www.wikidata.org (wikidata) Q2060\n",
      "www.wikidata.org (claims) Q6938740|Q577\n",
      "en.wikipedia.org (imageinfo) File:1992 Winter Olympics logo.svg\n",
      "1992 (en)\n",
      "{\n",
      "  cache: <dict(5)> {claims, imageinfo, parse, query, wikidata}\n",
      "  claims: <dict(2)> {Q577, Q6938740}\n",
      "  description: year\n",
      "  extext: <str(365)> **1992 (MCMXCII)** was a leap year starting on ...\n",
      "  extract: <str(402)> <p><b>1992 (MCMXCII)</b> was a leap year start...\n",
      "  images: <list(2)>\n",
      "  label: 1992\n",
      "  lang: en\n",
      "  links: https://commons.wikimedia.org/wiki/Category:1992\n",
      "  modified: <dict(2)> {page, wikidata}\n",
      "  pageid: 34669\n",
      "  parsetree: <str(97581)> <root><template><title>Use mdy dates</titl...\n",
      "  props: <dict(3)> {P31, P585, P910}\n",
      "  random: Government Girls P.G. College\n",
      "  title: 1992\n",
      "  url: https://en.wikipedia.org/wiki/1992\n",
      "  url_raw: https://en.wikipedia.org/wiki/1992?action=raw\n",
      "  what: year\n",
      "  wikibase: Q2060\n",
      "  wikidata: <dict(3)> {category, datetime, instance}\n",
      "  wikidata_url: https://www.wikidata.org/wiki/Q2060\n",
      "  wikitext: <str(94564)> {{Use mdy dates|date=March 2011}}{{Year dab...\n",
      "}\n"
     ]
    }
   ],
   "source": [
    "#CREATE DICTIONARY\n",
    "\n",
    "year = '1992'\n",
    "\n",
    "days_dic = {}\n",
    "days_dic = wiki_search(year, 'en')"
   ]
  },
  {
   "cell_type": "code",
   "execution_count": 38,
   "metadata": {
    "collapsed": false,
    "nbpresent": {
     "id": "9445dc2c-8033-4c65-8a96-dc50374b447e"
    }
   },
   "outputs": [],
   "source": [
    "#SHOW DICTIONARY\n",
    "\n",
    "days_dic;"
   ]
  },
  {
   "cell_type": "markdown",
   "metadata": {
    "nbpresent": {
     "id": "3c24e4d0-8d89-4f74-b531-145727118c26"
    }
   },
   "source": [
    "We are going to use key words in our dataset for the year of interest to help find entries in our dictionary. The keywords include information of the attack, such as country, cities, group, etc."
   ]
  },
  {
   "cell_type": "code",
   "execution_count": 39,
   "metadata": {
    "collapsed": false,
    "nbpresent": {
     "id": "4c8c083e-e540-4a04-b837-417652e3fcc1"
    }
   },
   "outputs": [],
   "source": [
    "#We create the keywords using filters and unique words\n",
    "\n",
    "sp_df = ter_filtered[ter_filtered['gname'] == 'Shining Path (SL)']\n",
    "sp_df = sp_df[sp_df['iyear'] == int(year)]\n",
    "key_words = list(sp_df['provstate'].unique()) + list(sp_df['country_txt'].unique()) + (list(sp_df['gname'].unique())) + (list(sp_df['city'].unique()))\n",
    "key_words.append('Perú')"
   ]
  },
  {
   "cell_type": "code",
   "execution_count": 40,
   "metadata": {
    "collapsed": false,
    "nbpresent": {
     "id": "8a69c55d-83e5-440d-b09a-ab8463755ecf"
    }
   },
   "outputs": [
    {
     "data": {
      "text/plain": [
       "['Ancash',\n",
       " 'Lima',\n",
       " 'Puno',\n",
       " 'Unknown',\n",
       " 'Huancavelica',\n",
       " 'Junin',\n",
       " 'Cusco',\n",
       " 'Ayacucho',\n",
       " 'Huanuco',\n",
       " 'Piura',\n",
       " 'La Libertad',\n",
       " 'Apurimac',\n",
       " 'Amazonas',\n",
       " 'Callao',\n",
       " 'Pasco',\n",
       " 'Arequipa',\n",
       " 'La Paz',\n",
       " 'Tacna',\n",
       " 'Peru',\n",
       " 'Bolivia',\n",
       " 'Shining Path (SL)',\n",
       " 'Huari',\n",
       " 'Lima',\n",
       " 'Macari',\n",
       " 'El Muyo-Matara',\n",
       " 'Castrovirreyna district',\n",
       " 'Concepcion district',\n",
       " 'Mollepata',\n",
       " 'Huaral',\n",
       " 'Puquio',\n",
       " 'Huancayo',\n",
       " 'Dos de Mayo district',\n",
       " 'Huancabamba district',\n",
       " 'Cangallo',\n",
       " 'Tutumbaru',\n",
       " 'Unknown',\n",
       " 'Angasmarca',\n",
       " 'Tornameza',\n",
       " 'Huancayo district',\n",
       " 'Saraya',\n",
       " 'San Carlos',\n",
       " 'Andajes',\n",
       " 'Ayacucho',\n",
       " 'Masamari',\n",
       " 'Melgar district',\n",
       " 'Palmapampa',\n",
       " 'LIma',\n",
       " 'Porculla',\n",
       " 'Callao',\n",
       " 'Puente Piedra',\n",
       " 'San Francisco de Mosca',\n",
       " 'Paucartambo',\n",
       " 'Ulcumayo',\n",
       " 'Quilcapata',\n",
       " 'Quiparacra',\n",
       " 'Las Vegas',\n",
       " 'Puerto Acosta',\n",
       " 'Huancaraylla',\n",
       " 'Circamarca',\n",
       " 'Llusita',\n",
       " 'Huacho',\n",
       " 'Huamanquiquia',\n",
       " 'La Florida',\n",
       " 'Acobamba',\n",
       " 'Pichihuillca',\n",
       " 'Santa Ana',\n",
       " 'Puente Capelo',\n",
       " 'Ayacucho district',\n",
       " 'Huayllapata',\n",
       " 'Tocto',\n",
       " 'Jangas',\n",
       " 'Canray Chico',\n",
       " 'Huayan',\n",
       " 'Urcumayo',\n",
       " 'San Pedro de Cajas',\n",
       " 'Huasahuasi',\n",
       " 'Palca',\n",
       " 'Rumi Rumi',\n",
       " 'Coracora',\n",
       " 'Chimbote',\n",
       " 'Santa Ines',\n",
       " 'Cusco',\n",
       " 'Patasucro',\n",
       " 'Arabe',\n",
       " 'Shitarillo',\n",
       " 'Perú']"
      ]
     },
     "execution_count": 40,
     "metadata": {},
     "output_type": "execute_result"
    }
   ],
   "source": [
    "key_words = [x for x in key_words if str(x) != 'nan']\n",
    "key_words"
   ]
  },
  {
   "cell_type": "code",
   "execution_count": 41,
   "metadata": {
    "collapsed": true,
    "nbpresent": {
     "id": "30252c80-fd68-4367-beed-5149c55b74c4"
    }
   },
   "outputs": [],
   "source": [
    "#This function looks for the word in all our dictionaty entries\n",
    "\n",
    "def search(myDict, lookup):\n",
    "    a=[]\n",
    "    for key, value in myDict.items():\n",
    "        if lookup in value:\n",
    "            a.append(key)\n",
    "            print(key, '-', value, '\\n')\n",
    "        a=list(set(a))\n",
    "    return a"
   ]
  },
  {
   "cell_type": "markdown",
   "metadata": {
    "nbpresent": {
     "id": "0a12b227-c9cb-4e84-9d92-f16b1254dbbd"
    }
   },
   "source": [
    "Finally, lets look for the entries in our dictionary that are related to the attacks we are researching:"
   ]
  },
  {
   "cell_type": "code",
   "execution_count": 42,
   "metadata": {
    "collapsed": false,
    "nbpresent": {
     "id": "3fc44f91-f868-4018-a0b4-85427f30915c"
    }
   },
   "outputs": [
    {
     "name": "stdout",
     "output_type": "stream",
     "text": [
      "November 13 -      The   government of Peru   announces it has arrested a small group of army officers who were plotting the assassination of President   Alberto Fujimori  .   A report by the   World Meteorological Organization   reports an unprecedented level of   ozone depletion   in both the Arctic and Antarctic.     Boxing Boxer     Riddick Bowe   defeats   Evander Holyfield   to become   Undisputed champion undisputed     heavyweight   champion. \n",
      "\n",
      "September 12 -                Dr.   Mae Jemison   becomes the first   African American   woman to travel into space  aboard the Space Shuttle     Space Shuttle Endeavour Endeavour    .   In   Peru    police arrest   Abimael Guzmán    the leader of the   Shining Path   guerilla movement  who had evaded capture  years. \n",
      "\n",
      "October 7 -     ndash  In   Peru      Shining Path   leader   Abimael Guzmán   is convicted of treason and sentenced to life in prison. \n",
      "\n",
      "January 1 -      The      is finally  years after its introduction in .     Boutros Boutros Ghali   of   Egypt   replaces   Javier Pérez de Cuéllar   of   Peru   as   United Nations Secretary General  .     George H. W. Bush   becomes the first U.S. President to address the   Australian Parliament  . \n",
      "\n",
      "April 5 -      The Assembly of   Bosnia and Herzegovina    without the presence of   Serbs Serb   political delegates  proclaims independence from the   Socialist Federal Republic of Yugoslavia  .     Bosnian War    Serb troops  following a mass rebellion of Serbs in   Bosnia and Herzegovina   against the Bosnian declaration of independence from   Yugoslavia    besiege the city of   Sarajevo  .    000 people march on Washington  D. C. in support of abortion rights in advance of oral arguments in the case of     Planned Parenthood v. Casey    .     President of Peru     Alberto Fujimori   issues   Decree     dissolving the   Congress of the Republic of Peru    imposing censorship and having opposition politicians arrested  setting off the   1992 Peruvian constitutional crisis  . \n",
      "\n",
      "December 22 -      The   Archives of Terror   are discovered by Dr. Martín Almada  detailing the fates of thousands of Latin Americans who had been secretly kidnapped  tortured  and killed by the security services of Argentina  Bolivia  Brazil  Chile  Paraguay  and Uruguay. This is known as   Operation Condor  . \n",
      "\n"
     ]
    }
   ],
   "source": [
    "#Search and print all entries related to the key words for the given year\n",
    "for word in key_words:\n",
    "    search(days_dic, word)"
   ]
  },
  {
   "cell_type": "markdown",
   "metadata": {
    "nbpresent": {
     "id": "df03a710-1be5-489e-806e-a84f6b360e7e"
    }
   },
   "source": [
    "We can see that the leader of the the Shining Path, Abimael Guzman was arrested in September 12 and convicted to life in prision in October 7 of the year of 1992."
   ]
  },
  {
   "cell_type": "code",
   "execution_count": 43,
   "metadata": {
    "collapsed": false,
    "nbpresent": {
     "id": "19997836-0379-4cfe-86f4-6e92f6a75b4f"
    }
   },
   "outputs": [
    {
     "data": {
      "image/jpeg": "[encoded data removed]",
      "text/plain": [
       "<IPython.core.display.Image object>"
      ]
     },
     "execution_count": 43,
     "metadata": {},
     "output_type": "execute_result"
    }
   ],
   "source": [
    "from IPython.display import Image\n",
    "Image(filename='abimael.jpg') "
   ]
  },
  {
   "cell_type": "markdown",
   "metadata": {},
   "source": [
    "Shining Path, believed in establishing a communist dictatorship in Peru and around the world through violence. This caused fear among the people and they didn’t gain much support. They also closed off local markets as they believed in eradicating all forms of capitalism. This didn’t go well with the working class and they helped the government in capturing the leaders of the insurgent group."
   ]
  },
  {
   "cell_type": "markdown",
   "metadata": {
    "collapsed": true,
    "nbpresent": {
     "id": "0b461d54-db70-42f2-b2b6-b12d06ce81a5"
    }
   },
   "source": [
    "# Farabundo Marti National Liberation Front (FMLN)"
   ]
  },
  {
   "cell_type": "markdown",
   "metadata": {},
   "source": [
    "The FMLN, one of the main participants in the Salvadoran Civil War, was formed on October 10, 1980, taking the name of Farabundo Martí, the peasant leader during the 1932 Salvadorean peasant massacre. Throughout the 1980s its members initiated and engaged in hard-fought battles with Salvadoran government troops. Let us take a look at the attacks conducted by FMLN from 1978 to 1994."
   ]
  },
  {
   "cell_type": "code",
   "execution_count": 44,
   "metadata": {
    "collapsed": false,
    "nbpresent": {
     "id": "1884cb71-e6e3-4aa5-9597-b8b1a926f4f5"
    }
   },
   "outputs": [
    {
     "data": {
      "text/html": [
       "\n",
       "<a class=\"embedly-card\" href=\"https://joseedu.github.io/elSalvadorMap/\">FMNL Story</a>\n",
       "<script async src=\"//cdn.embedly.com/widgets/platform.js\" charset=\"UTF-8\"></script>"
      ],
      "text/plain": [
       "<IPython.core.display.HTML object>"
      ]
     },
     "metadata": {},
     "output_type": "display_data"
    }
   ],
   "source": [
    "%%HTML \n",
    "\n",
    "<a class=\"embedly-card\" href=\"https://joseedu.github.io/elSalvadorMap/\">FMNL Story</a>\n",
    "<script async src=\"//cdn.embedly.com/widgets/platform.js\" charset=\"UTF-8\"></script>"
   ]
  },
  {
   "cell_type": "markdown",
   "metadata": {},
   "source": [
    "Which groups were targeted and what weapons were used?"
   ]
  },
  {
   "cell_type": "code",
   "execution_count": 45,
   "metadata": {
    "collapsed": false
   },
   "outputs": [
    {
     "data": {
      "text/html": [
       "\n",
       "<div class='tableauPlaceholder' id='viz1488743106261' style='position: relative'><noscript><a href='#'><img alt='Attacks by target type and weapon used ' src='https:&#47;&#47;public.tableau.com&#47;static&#47;images&#47;GT&#47;GTD_Final_Project&#47;Farabundo&#47;1_rss.png' style='border: none' /></a></noscript><object class='tableauViz'  style='display:none;'><param name='host_url' value='https%3A%2F%2Fpublic.tableau.com%2F' /> <param name='site_root' value='' /><param name='name' value='GTD_Final_Project&#47;Farabundo' /><param name='tabs' value='no' /><param name='toolbar' value='yes' /><param name='static_image' value='https:&#47;&#47;public.tableau.com&#47;static&#47;images&#47;GT&#47;GTD_Final_Project&#47;Farabundo&#47;1.png' /> <param name='animate_transition' value='yes' /><param name='display_static_image' value='yes' /><param name='display_spinner' value='yes' /><param name='display_overlay' value='yes' /><param name='display_count' value='yes' /></object></div>                <script type='text/javascript'>                    var divElement = document.getElementById('viz1488743106261');                    var vizElement = divElement.getElementsByTagName('object')[0];                    vizElement.style.width='100%';vizElement.style.height=(divElement.offsetWidth*0.75)+'px';                    var scriptElement = document.createElement('script');                    scriptElement.src = 'https://public.tableau.com/javascripts/api/viz_v1.js';                    vizElement.parentNode.insertBefore(scriptElement, vizElement);                </script>"
      ],
      "text/plain": [
       "<IPython.core.display.HTML object>"
      ]
     },
     "metadata": {},
     "output_type": "display_data"
    }
   ],
   "source": [
    "%%HTML\n",
    "\n",
    "<div class='tableauPlaceholder' id='viz1488743106261' style='position: relative'><noscript><a href='#'><img alt='Attacks by target type and weapon used ' src='https:&#47;&#47;public.tableau.com&#47;static&#47;images&#47;GT&#47;GTD_Final_Project&#47;Farabundo&#47;1_rss.png' style='border: none' /></a></noscript><object class='tableauViz'  style='display:none;'><param name='host_url' value='https%3A%2F%2Fpublic.tableau.com%2F' /> <param name='site_root' value='' /><param name='name' value='GTD_Final_Project&#47;Farabundo' /><param name='tabs' value='no' /><param name='toolbar' value='yes' /><param name='static_image' value='https:&#47;&#47;public.tableau.com&#47;static&#47;images&#47;GT&#47;GTD_Final_Project&#47;Farabundo&#47;1.png' /> <param name='animate_transition' value='yes' /><param name='display_static_image' value='yes' /><param name='display_spinner' value='yes' /><param name='display_overlay' value='yes' /><param name='display_count' value='yes' /></object></div>                <script type='text/javascript'>                    var divElement = document.getElementById('viz1488743106261');                    var vizElement = divElement.getElementsByTagName('object')[0];                    vizElement.style.width='100%';vizElement.style.height=(divElement.offsetWidth*0.75)+'px';                    var scriptElement = document.createElement('script');                    scriptElement.src = 'https://public.tableau.com/javascripts/api/viz_v1.js';                    vizElement.parentNode.insertBefore(scriptElement, vizElement);                </script>\n"
   ]
  },
  {
   "cell_type": "markdown",
   "metadata": {},
   "source": [
    "Which city took the most hits? What other countries did FMLN spread to?\n",
    "\n",
    "Farabundo Marti Liberation Front (FMLN) guerillas launched a major offensive in San Salvador, the capital city, jeopardizing civilians and targeting foreign personnel to gain international attention."
   ]
  },
  {
   "cell_type": "code",
   "execution_count": 46,
   "metadata": {
    "collapsed": false
   },
   "outputs": [
    {
     "data": {
      "text/html": [
       "\n",
       "<div class='tableauPlaceholder' id='viz1488773698493' style='position: relative'><noscript><a href='#'><img alt='Dashboard 5 ' src='https:&#47;&#47;public.tableau.com&#47;static&#47;images&#47;GT&#47;GTD_Final_Project&#47;Dashboard5&#47;1_rss.png' style='border: none' /></a></noscript><object class='tableauViz'  style='display:none;'><param name='host_url' value='https%3A%2F%2Fpublic.tableau.com%2F' /> <param name='site_root' value='' /><param name='name' value='GTD_Final_Project&#47;Dashboard5' /><param name='tabs' value='no' /><param name='toolbar' value='yes' /><param name='static_image' value='https:&#47;&#47;public.tableau.com&#47;static&#47;images&#47;GT&#47;GTD_Final_Project&#47;Dashboard5&#47;1.png' /> <param name='animate_transition' value='yes' /><param name='display_static_image' value='yes' /><param name='display_spinner' value='yes' /><param name='display_overlay' value='yes' /><param name='display_count' value='yes' /></object></div>                <script type='text/javascript'>                    var divElement = document.getElementById('viz1488773698493');                    var vizElement = divElement.getElementsByTagName('object')[0];                    vizElement.style.width='1004px';vizElement.style.height='869px';                    var scriptElement = document.createElement('script');                    scriptElement.src = 'https://public.tableau.com/javascripts/api/viz_v1.js';                    vizElement.parentNode.insertBefore(scriptElement, vizElement);                </script>"
      ],
      "text/plain": [
       "<IPython.core.display.HTML object>"
      ]
     },
     "metadata": {},
     "output_type": "display_data"
    }
   ],
   "source": [
    "%%HTML\n",
    "\n",
    "<div class='tableauPlaceholder' id='viz1488773698493' style='position: relative'><noscript><a href='#'><img alt='Dashboard 5 ' src='https:&#47;&#47;public.tableau.com&#47;static&#47;images&#47;GT&#47;GTD_Final_Project&#47;Dashboard5&#47;1_rss.png' style='border: none' /></a></noscript><object class='tableauViz'  style='display:none;'><param name='host_url' value='https%3A%2F%2Fpublic.tableau.com%2F' /> <param name='site_root' value='' /><param name='name' value='GTD_Final_Project&#47;Dashboard5' /><param name='tabs' value='no' /><param name='toolbar' value='yes' /><param name='static_image' value='https:&#47;&#47;public.tableau.com&#47;static&#47;images&#47;GT&#47;GTD_Final_Project&#47;Dashboard5&#47;1.png' /> <param name='animate_transition' value='yes' /><param name='display_static_image' value='yes' /><param name='display_spinner' value='yes' /><param name='display_overlay' value='yes' /><param name='display_count' value='yes' /></object></div>                <script type='text/javascript'>                    var divElement = document.getElementById('viz1488773698493');                    var vizElement = divElement.getElementsByTagName('object')[0];                    vizElement.style.width='1004px';vizElement.style.height='869px';                    var scriptElement = document.createElement('script');                    scriptElement.src = 'https://public.tableau.com/javascripts/api/viz_v1.js';                    vizElement.parentNode.insertBefore(scriptElement, vizElement);                </script>\n"
   ]
  },
  {
   "cell_type": "markdown",
   "metadata": {},
   "source": [
    "Farabundo frequently targeted the utilities. They regularly damaged or disrupted the country's transportation, communications, and energy systems to erode the government's popularity. The attacks spiked mainly during election years. The FMLN conducted other acts of domestic terrorism which resulted in the death of a number of civilians."
   ]
  },
  {
   "cell_type": "code",
   "execution_count": 47,
   "metadata": {
    "collapsed": false
   },
   "outputs": [
    {
     "data": {
      "text/html": [
       "\n",
       "<div class='tableauPlaceholder' id='viz1488747821372' style='position: relative'><noscript><a href='#'><img alt='Farabundo # of Attacks by year ' src='https:&#47;&#47;public.tableau.com&#47;static&#47;images&#47;GT&#47;GTD_Final_Project&#47;F-ofattacksperyear&#47;1_rss.png' style='border: none' /></a></noscript><object class='tableauViz'  style='display:none;'><param name='host_url' value='https%3A%2F%2Fpublic.tableau.com%2F' /> <param name='site_root' value='' /><param name='name' value='GTD_Final_Project&#47;F-ofattacksperyear' /><param name='tabs' value='no' /><param name='toolbar' value='yes' /><param name='static_image' value='https:&#47;&#47;public.tableau.com&#47;static&#47;images&#47;GT&#47;GTD_Final_Project&#47;F-ofattacksperyear&#47;1.png' /> <param name='animate_transition' value='yes' /><param name='display_static_image' value='yes' /><param name='display_spinner' value='yes' /><param name='display_overlay' value='yes' /><param name='display_count' value='yes' /></object></div>                <script type='text/javascript'>                    var divElement = document.getElementById('viz1488747821372');                    var vizElement = divElement.getElementsByTagName('object')[0];                    vizElement.style.width='100%';vizElement.style.height=(divElement.offsetWidth*0.75)+'px';                    var scriptElement = document.createElement('script');                    scriptElement.src = 'https://public.tableau.com/javascripts/api/viz_v1.js';                    vizElement.parentNode.insertBefore(scriptElement, vizElement);                </script>"
      ],
      "text/plain": [
       "<IPython.core.display.HTML object>"
      ]
     },
     "metadata": {},
     "output_type": "display_data"
    }
   ],
   "source": [
    "%%HTML\n",
    "\n",
    "<div class='tableauPlaceholder' id='viz1488747821372' style='position: relative'><noscript><a href='#'><img alt='Farabundo # of Attacks by year ' src='https:&#47;&#47;public.tableau.com&#47;static&#47;images&#47;GT&#47;GTD_Final_Project&#47;F-ofattacksperyear&#47;1_rss.png' style='border: none' /></a></noscript><object class='tableauViz'  style='display:none;'><param name='host_url' value='https%3A%2F%2Fpublic.tableau.com%2F' /> <param name='site_root' value='' /><param name='name' value='GTD_Final_Project&#47;F-ofattacksperyear' /><param name='tabs' value='no' /><param name='toolbar' value='yes' /><param name='static_image' value='https:&#47;&#47;public.tableau.com&#47;static&#47;images&#47;GT&#47;GTD_Final_Project&#47;F-ofattacksperyear&#47;1.png' /> <param name='animate_transition' value='yes' /><param name='display_static_image' value='yes' /><param name='display_spinner' value='yes' /><param name='display_overlay' value='yes' /><param name='display_count' value='yes' /></object></div>                <script type='text/javascript'>                    var divElement = document.getElementById('viz1488747821372');                    var vizElement = divElement.getElementsByTagName('object')[0];                    vizElement.style.width='100%';vizElement.style.height=(divElement.offsetWidth*0.75)+'px';                    var scriptElement = document.createElement('script');                    scriptElement.src = 'https://public.tableau.com/javascripts/api/viz_v1.js';                    vizElement.parentNode.insertBefore(scriptElement, vizElement);                </script>\n"
   ]
  },
  {
   "cell_type": "markdown",
   "metadata": {},
   "source": [
    "Let us take a look at the lifespan of FMLN"
   ]
  },
  {
   "cell_type": "code",
   "execution_count": 48,
   "metadata": {
    "collapsed": false
   },
   "outputs": [
    {
     "data": {
      "text/html": [
       "\n",
       "<div class='tableauPlaceholder' id='viz1488773438058' style='position: relative'><noscript><a href='#'><img alt='Dashboard 4 ' src='https:&#47;&#47;public.tableau.com&#47;static&#47;images&#47;GT&#47;GTD_Final_Project&#47;Dashboard4&#47;1_rss.png' style='border: none' /></a></noscript><object class='tableauViz'  style='display:none;'><param name='host_url' value='https%3A%2F%2Fpublic.tableau.com%2F' /> <param name='site_root' value='' /><param name='name' value='GTD_Final_Project&#47;Dashboard4' /><param name='tabs' value='no' /><param name='toolbar' value='yes' /><param name='static_image' value='https:&#47;&#47;public.tableau.com&#47;static&#47;images&#47;GT&#47;GTD_Final_Project&#47;Dashboard4&#47;1.png' /> <param name='animate_transition' value='yes' /><param name='display_static_image' value='yes' /><param name='display_spinner' value='yes' /><param name='display_overlay' value='yes' /><param name='display_count' value='yes' /></object></div>                <script type='text/javascript'>                    var divElement = document.getElementById('viz1488773438058');                    var vizElement = divElement.getElementsByTagName('object')[0];                    vizElement.style.width='1004px';vizElement.style.height='869px';                    var scriptElement = document.createElement('script');                    scriptElement.src = 'https://public.tableau.com/javascripts/api/viz_v1.js';                    vizElement.parentNode.insertBefore(scriptElement, vizElement);                </script>"
      ],
      "text/plain": [
       "<IPython.core.display.HTML object>"
      ]
     },
     "metadata": {},
     "output_type": "display_data"
    }
   ],
   "source": [
    "%%HTML\n",
    "\n",
    "<div class='tableauPlaceholder' id='viz1488773438058' style='position: relative'><noscript><a href='#'><img alt='Dashboard 4 ' src='https:&#47;&#47;public.tableau.com&#47;static&#47;images&#47;GT&#47;GTD_Final_Project&#47;Dashboard4&#47;1_rss.png' style='border: none' /></a></noscript><object class='tableauViz'  style='display:none;'><param name='host_url' value='https%3A%2F%2Fpublic.tableau.com%2F' /> <param name='site_root' value='' /><param name='name' value='GTD_Final_Project&#47;Dashboard4' /><param name='tabs' value='no' /><param name='toolbar' value='yes' /><param name='static_image' value='https:&#47;&#47;public.tableau.com&#47;static&#47;images&#47;GT&#47;GTD_Final_Project&#47;Dashboard4&#47;1.png' /> <param name='animate_transition' value='yes' /><param name='display_static_image' value='yes' /><param name='display_spinner' value='yes' /><param name='display_overlay' value='yes' /><param name='display_count' value='yes' /></object></div>                <script type='text/javascript'>                    var divElement = document.getElementById('viz1488773438058');                    var vizElement = divElement.getElementsByTagName('object')[0];                    vizElement.style.width='1004px';vizElement.style.height='869px';                    var scriptElement = document.createElement('script');                    scriptElement.src = 'https://public.tableau.com/javascripts/api/viz_v1.js';                    vizElement.parentNode.insertBefore(scriptElement, vizElement);                </script>"
   ]
  },
  {
   "cell_type": "markdown",
   "metadata": {},
   "source": [
    "So, what happened in 1992? Let us search Wikipedia."
   ]
  },
  {
   "cell_type": "code",
   "execution_count": 49,
   "metadata": {
    "collapsed": false
   },
   "outputs": [
    {
     "name": "stderr",
     "output_type": "stream",
     "text": [
      "1992 (en)\n",
      "{\n",
      "  lang: en\n",
      "  title: 1992\n",
      "}\n",
      "en.wikipedia.org (query) 1992\n",
      "en.wikipedia.org (parse) 34669\n",
      "www.wikidata.org (wikidata) Q2060\n",
      "www.wikidata.org (claims) Q6938740|Q577\n",
      "en.wikipedia.org (imageinfo) File:1992 Winter Olympics logo.svg\n",
      "1992 (en)\n",
      "{\n",
      "  cache: <dict(5)> {claims, imageinfo, parse, query, wikidata}\n",
      "  claims: <dict(2)> {Q577, Q6938740}\n",
      "  description: year\n",
      "  extext: <str(365)> **1992 (MCMXCII)** was a leap year starting on ...\n",
      "  extract: <str(402)> <p><b>1992 (MCMXCII)</b> was a leap year start...\n",
      "  images: <list(2)>\n",
      "  label: 1992\n",
      "  lang: en\n",
      "  links: https://commons.wikimedia.org/wiki/Category:1992\n",
      "  modified: <dict(2)> {page, wikidata}\n",
      "  pageid: 34669\n",
      "  parsetree: <str(97581)> <root><template><title>Use mdy dates</titl...\n",
      "  props: <dict(3)> {P31, P585, P910}\n",
      "  random: VirtualDJ Radio\n",
      "  title: 1992\n",
      "  url: https://en.wikipedia.org/wiki/1992\n",
      "  url_raw: https://en.wikipedia.org/wiki/1992?action=raw\n",
      "  what: year\n",
      "  wikibase: Q2060\n",
      "  wikidata: <dict(3)> {category, datetime, instance}\n",
      "  wikidata_url: https://www.wikidata.org/wiki/Q2060\n",
      "  wikitext: <str(94564)> {{Use mdy dates|date=March 2011}}{{Year dab...\n",
      "}\n"
     ]
    }
   ],
   "source": [
    "year = '1992'\n",
    "\n",
    "days_dic = {}\n",
    "days_dic = wiki_search(year, 'en')"
   ]
  },
  {
   "cell_type": "code",
   "execution_count": 50,
   "metadata": {
    "collapsed": false
   },
   "outputs": [
    {
     "data": {
      "text/plain": [
       "['El Salvador',\n",
       " 'Farabundo Marti National Liberation Front (FMLN)',\n",
       " 'San Salvador',\n",
       " 'Anamoros']"
      ]
     },
     "execution_count": 50,
     "metadata": {},
     "output_type": "execute_result"
    }
   ],
   "source": [
    "#We create the keywords using filters and unique words\n",
    "sp_df = ter_filtered[ter_filtered['gname'] == 'Farabundo Marti National Liberation Front (FMLN)']\n",
    "sp_df = sp_df[sp_df['iyear'] == int(year)]\n",
    "key_words = list(sp_df['provstate'].unique()) + list(sp_df['country_txt'].unique()) + (list(sp_df['gname'].unique())) + (list(sp_df['city'].unique()))\n",
    "key_words = [x for x in key_words if str(x) != 'nan']\n",
    "key_words"
   ]
  },
  {
   "cell_type": "code",
   "execution_count": 51,
   "metadata": {
    "collapsed": false
   },
   "outputs": [
    {
     "name": "stdout",
     "output_type": "stream",
     "text": [
      "January 24 -      In   El Salvador    an army colonel and a lieutenant of the   Atlacatl Battalion   are each sentenced  years in prison for   Murder of UCA scholars  murder of six Jesuit priests and their housekeepers  .   China and   Israel   establish diplomatic relations. \n",
      "\n",
      "January 16 -        El Salvador   officials and rebel leaders sign the   Chapultepec Peace Accords   in Mexico City ending  year   Salvadoran Civil War   that claimed at  000 lives. \n",
      "\n"
     ]
    }
   ],
   "source": [
    "\n",
    "#Search and print all entries related to the key words for the given year\n",
    "for word in key_words:\n",
    "    search(days_dic, word)\n"
   ]
  },
  {
   "cell_type": "markdown",
   "metadata": {},
   "source": [
    "So, we see that a peace treaty was signed and the terrorist party became legal in El Salvador in 1992. This explains the drop in the number of attacks around 1992. So, now Salvadoreans can vote FMLN to power. In fact, in 2009, FMLN won the presidential elections."
   ]
  },
  {
   "cell_type": "code",
   "execution_count": 52,
   "metadata": {
    "collapsed": false
   },
   "outputs": [
    {
     "data": {
      "image/jpeg": "[encoded data removed]",
      "text/plain": [
       "<IPython.core.display.Image object>"
      ]
     },
     "execution_count": 52,
     "metadata": {},
     "output_type": "execute_result"
    }
   ],
   "source": [
    "Image(filename='fmln.jpg') "
   ]
  },
  {
   "cell_type": "markdown",
   "metadata": {},
   "source": [
    "## Some Final Comments..."
   ]
  },
  {
   "cell_type": "markdown",
   "metadata": {},
   "source": [
    "The stories shows us different ways in which governments can deal with terrorist groups. Both were Communist inspired terrorist groups. Both killed a lot of people in their countries. But one became a legal party and the other ceased to exist. Farabundo enjoyed support from the people, so the government could not defeat them with military power and US support. So, they negotiated a peace treaty and FMLN became a legal party. They won the presidential elections in March 2009. Thus, we see that data on who terrorists are and what motivates them helps intelligence agencies combat terrorist organizations across the world."
   ]
  }
 ],
 "metadata": {
  "anaconda-cloud": {},
  "kernelspec": {
   "display_name": "Python [default]",
   "language": "python",
   "name": "python3"
  },
  "language_info": {
   "codemirror_mode": {
    "name": "ipython",
    "version": 3
   },
   "file_extension": ".py",
   "mimetype": "text/x-python",
   "name": "python",
   "nbconvert_exporter": "python",
   "pygments_lexer": "ipython3",
   "version": "3.5.2"
  },
  "nbpresent": {
   "slides": {
    "07b98d79-f529-484b-b361-2fad2af8d73e": {
     "id": "07b98d79-f529-484b-b361-2fad2af8d73e",
     "prev": "1c39cad9-7196-4869-92a0-6d1ca84ea4ad",
     "regions": {
      "bce314c6-3430-42ba-b9d8-db6b3e746110": {
       "attrs": {
        "height": 0.8,
        "width": 0.8,
        "x": 0.1,
        "y": 0.1
       },
       "content": {
        "cell": "cf863251-7960-493b-a88c-be7c95344cab",
        "part": "whole"
       },
       "id": "bce314c6-3430-42ba-b9d8-db6b3e746110"
      }
     }
    },
    "146b7be8-367d-4782-89df-fe5a7c8ae007": {
     "id": "146b7be8-367d-4782-89df-fe5a7c8ae007",
     "prev": "d2ae0209-4cb1-4d2f-aab5-5c3f980d9833",
     "regions": {
      "602515d8-160f-4ca6-970a-4de71a2148dd": {
       "attrs": {
        "height": 0.8,
        "width": 0.8,
        "x": 0.1,
        "y": 0.1
       },
       "content": {
        "cell": "5ecb1675-ea4a-4b51-8ae1-4ac21f213682",
        "part": "whole"
       },
       "id": "602515d8-160f-4ca6-970a-4de71a2148dd"
      }
     }
    },
    "19224069-3398-4963-b655-a0f57d86c947": {
     "id": "19224069-3398-4963-b655-a0f57d86c947",
     "prev": "ae1ca61e-aae8-471b-9b5d-8b24059bfa0d",
     "regions": {
      "fcfb2e22-1f69-438e-9554-2352c29a4fed": {
       "attrs": {
        "height": 0.8,
        "width": 0.8,
        "x": 0.1,
        "y": 0.1
       },
       "content": {
        "cell": "f0a54ada-d4f9-4b7c-92a9-1e6e9182022c",
        "part": "whole"
       },
       "id": "fcfb2e22-1f69-438e-9554-2352c29a4fed"
      }
     }
    },
    "1bf4f59e-a0a7-42d2-b7b5-18c14b605116": {
     "id": "1bf4f59e-a0a7-42d2-b7b5-18c14b605116",
     "prev": "e7f3eba4-2ac2-4bc7-9bae-356778a78c5c",
     "regions": {
      "73630e7b-f5c0-4a28-8bd5-515f4038dfd9": {
       "attrs": {
        "height": 0.8,
        "width": 0.8,
        "x": 0.1,
        "y": 0.1
       },
       "content": {
        "cell": "c27208ed-fce1-48db-b0cd-419d6afd17b0",
        "part": "whole"
       },
       "id": "73630e7b-f5c0-4a28-8bd5-515f4038dfd9"
      }
     }
    },
    "1c39cad9-7196-4869-92a0-6d1ca84ea4ad": {
     "id": "1c39cad9-7196-4869-92a0-6d1ca84ea4ad",
     "prev": "ed356e78-d388-4825-b15b-9891879b6646",
     "regions": {
      "2b1feb76-55ab-48f7-aa49-fbae592d9312": {
       "attrs": {
        "height": 0.8,
        "width": 0.8,
        "x": 0.1,
        "y": 0.1
       },
       "content": {
        "cell": "d7e8d54a-bec3-4752-a3ef-f752b8265821",
        "part": "whole"
       },
       "id": "2b1feb76-55ab-48f7-aa49-fbae592d9312"
      }
     }
    },
    "234d410b-32de-4f24-bcff-f1c9a9582616": {
     "id": "234d410b-32de-4f24-bcff-f1c9a9582616",
     "prev": "5626c0d6-3835-4215-9f47-af534ac653f2",
     "regions": {
      "0bfd6f9f-901d-45e5-a77a-e364925a9cef": {
       "attrs": {
        "height": 0.8,
        "width": 0.8,
        "x": 0.1,
        "y": 0.1
       },
       "content": {
        "cell": "f6105d10-52be-4115-9dbd-43c407896899",
        "part": "whole"
       },
       "id": "0bfd6f9f-901d-45e5-a77a-e364925a9cef"
      }
     }
    },
    "2e6ab74c-b18c-4aeb-8904-091d9628ae3f": {
     "id": "2e6ab74c-b18c-4aeb-8904-091d9628ae3f",
     "prev": "fd28a190-0368-4db9-b8ea-e648bc4efd13",
     "regions": {
      "11785dd5-4a8a-4dd7-bcb7-9d458e41f852": {
       "attrs": {
        "height": 0.8,
        "width": 0.8,
        "x": 0.1,
        "y": 0.1
       },
       "content": {
        "cell": "df03a710-1be5-489e-806e-a84f6b360e7e",
        "part": "whole"
       },
       "id": "11785dd5-4a8a-4dd7-bcb7-9d458e41f852"
      }
     }
    },
    "3635e46f-1d17-4964-bacd-ed81da86af89": {
     "id": "3635e46f-1d17-4964-bacd-ed81da86af89",
     "prev": "ddadb72d-c462-4d97-9455-3e963365273c",
     "regions": {
      "5087f311-486d-4a03-8163-59115bba033b": {
       "attrs": {
        "height": 0.8,
        "width": 0.8,
        "x": 0.1,
        "y": 0.1
       },
       "content": {
        "cell": "58df39c2-75fb-4e28-a431-79088b346d62",
        "part": "whole"
       },
       "id": "5087f311-486d-4a03-8163-59115bba033b"
      }
     }
    },
    "383d2099-f1cc-4623-94a1-adc6967b7b95": {
     "id": "383d2099-f1cc-4623-94a1-adc6967b7b95",
     "prev": "64fb2aa8-e441-49d9-a43f-4ff82a649449",
     "regions": {
      "165b3a3c-050c-47c9-8871-36f3aabbbac2": {
       "attrs": {
        "height": 0.8,
        "width": 0.8,
        "x": 0.1,
        "y": 0.1
       },
       "content": {
        "cell": "f27df8e7-b717-4c4d-889d-4871b3444606",
        "part": "whole"
       },
       "id": "165b3a3c-050c-47c9-8871-36f3aabbbac2"
      }
     }
    },
    "39bbab5b-c4ce-4a96-94f3-6b661f8aa515": {
     "id": "39bbab5b-c4ce-4a96-94f3-6b661f8aa515",
     "prev": "146b7be8-367d-4782-89df-fe5a7c8ae007",
     "regions": {
      "c971cef1-a37d-40ad-910e-9f27d0b84d49": {
       "attrs": {
        "height": 0.8,
        "width": 0.8,
        "x": 0.1,
        "y": 0.1
       },
       "content": {
        "cell": "ca5ea800-1bdc-4db9-9ee4-71003f64bce9",
        "part": "whole"
       },
       "id": "c971cef1-a37d-40ad-910e-9f27d0b84d49"
      }
     }
    },
    "40f7cd76-bd91-44ef-84b3-775cf411d9df": {
     "id": "40f7cd76-bd91-44ef-84b3-775cf411d9df",
     "prev": "f9a2ffb6-2dca-4606-ad78-09af1c7973d9",
     "regions": {
      "0a961356-91d5-4f4b-9782-0e8011563b4d": {
       "attrs": {
        "height": 0.8,
        "width": 0.8,
        "x": 0.1,
        "y": 0.1
       },
       "content": {
        "cell": "70b843a6-380d-41ed-81cb-2b7fea179c08",
        "part": "whole"
       },
       "id": "0a961356-91d5-4f4b-9782-0e8011563b4d"
      }
     }
    },
    "427ffac8-b7ec-498f-9658-e979ccfbac65": {
     "id": "427ffac8-b7ec-498f-9658-e979ccfbac65",
     "prev": "19224069-3398-4963-b655-a0f57d86c947",
     "regions": {
      "01ff4425-d6d3-4a30-b00f-fce109f18f8e": {
       "attrs": {
        "height": 0.8,
        "width": 0.8,
        "x": 0.1,
        "y": 0.1
       },
       "content": {
        "cell": "878de46a-7096-4b8b-98e9-27ae9c0994a7",
        "part": "whole"
       },
       "id": "01ff4425-d6d3-4a30-b00f-fce109f18f8e"
      }
     }
    },
    "4321515e-9e52-4bbb-9323-93f85c88dd08": {
     "id": "4321515e-9e52-4bbb-9323-93f85c88dd08",
     "prev": "427ffac8-b7ec-498f-9658-e979ccfbac65",
     "regions": {
      "06cbc2a1-4bbe-4ce8-b7a4-1088f3e5ffa9": {
       "attrs": {
        "height": 0.8,
        "width": 0.8,
        "x": 0.1,
        "y": 0.1
       },
       "content": {
        "cell": "c0b3eff9-9d88-45d3-8a36-59e748d348be",
        "part": "whole"
       },
       "id": "06cbc2a1-4bbe-4ce8-b7a4-1088f3e5ffa9"
      }
     }
    },
    "45654003-8394-4845-add7-8e7dc725dc55": {
     "id": "45654003-8394-4845-add7-8e7dc725dc55",
     "prev": "39bbab5b-c4ce-4a96-94f3-6b661f8aa515",
     "regions": {
      "95bbdc43-9643-44d6-ba1f-090db8a5480b": {
       "attrs": {
        "height": 0.8,
        "width": 0.8,
        "x": 0.1,
        "y": 0.1
       },
       "content": {
        "cell": "a55379e9-cbc0-4a3d-a3ce-63c87ca9b143",
        "part": "whole"
       },
       "id": "95bbdc43-9643-44d6-ba1f-090db8a5480b"
      }
     }
    },
    "47b40145-fab7-4986-932f-b6a6d049290c": {
     "id": "47b40145-fab7-4986-932f-b6a6d049290c",
     "prev": "99989a0f-5fa7-4f26-8771-9a3e29c34c63",
     "regions": {
      "05bf936f-3d5d-4c3e-8aaa-e71eec75202f": {
       "attrs": {
        "height": 0.8,
        "width": 0.8,
        "x": 0.1,
        "y": 0.1
       },
       "content": {
        "cell": "80329564-dc74-40d9-aed0-df8f04f431f9",
        "part": "whole"
       },
       "id": "05bf936f-3d5d-4c3e-8aaa-e71eec75202f"
      }
     }
    },
    "4cff7cf5-99dd-487a-b395-0a2b7e156fba": {
     "id": "4cff7cf5-99dd-487a-b395-0a2b7e156fba",
     "prev": "ddf1065e-198d-4365-ba5a-cc094da66058",
     "regions": {
      "7bbd6c74-16c4-4ae2-9e68-17b4a21e36bc": {
       "attrs": {
        "height": 0.8,
        "width": 0.8,
        "x": 0.1,
        "y": 0.1
       },
       "content": {
        "cell": "878157f5-43cd-42b3-b64b-2ff0d816e89d",
        "part": "whole"
       },
       "id": "7bbd6c74-16c4-4ae2-9e68-17b4a21e36bc"
      }
     }
    },
    "500b11fd-99fd-493b-92ef-ed092d004996": {
     "id": "500b11fd-99fd-493b-92ef-ed092d004996",
     "prev": "a84dfac2-6abc-470f-833c-25f66e27c7e4",
     "regions": {
      "d4a00436-aa0f-41db-8319-626cab875f45": {
       "attrs": {
        "height": 0.8,
        "width": 0.8,
        "x": 0.1,
        "y": 0.1
       },
       "content": {
        "cell": "c58ae962-13aa-4bd9-841b-91076a21f918",
        "part": "whole"
       },
       "id": "d4a00436-aa0f-41db-8319-626cab875f45"
      }
     }
    },
    "5626c0d6-3835-4215-9f47-af534ac653f2": {
     "id": "5626c0d6-3835-4215-9f47-af534ac653f2",
     "prev": "859974c9-f037-42c4-9b62-0f5e8db8fa0d",
     "regions": {
      "8368cbfa-54c5-441e-a241-b9ea05e0445c": {
       "attrs": {
        "height": 0.8,
        "width": 0.8,
        "x": 0.1,
        "y": 0.1
       },
       "content": {
        "cell": "52177658-1e6b-4f1a-8e8a-9d00f628aa93",
        "part": "whole"
       },
       "id": "8368cbfa-54c5-441e-a241-b9ea05e0445c"
      }
     }
    },
    "5f5740ca-8a97-4323-9155-22b5aad60bb0": {
     "id": "5f5740ca-8a97-4323-9155-22b5aad60bb0",
     "prev": "07b98d79-f529-484b-b361-2fad2af8d73e",
     "regions": {
      "a4f4fae2-786c-4c8d-944f-50c066e9e828": {
       "attrs": {
        "height": 0.8,
        "width": 0.8,
        "x": 0.1,
        "y": 0.1
       },
       "content": {
        "cell": "eab8f77f-6c87-4912-9823-1932ad6b994b",
        "part": "whole"
       },
       "id": "a4f4fae2-786c-4c8d-944f-50c066e9e828"
      }
     }
    },
    "6400460e-f596-4f4e-83f0-6fa85882c399": {
     "id": "6400460e-f596-4f4e-83f0-6fa85882c399",
     "prev": "a7ce7f36-ef49-441c-9425-5c77c1abfa90",
     "regions": {
      "4bf9cb44-fd05-4688-8d59-981916328071": {
       "attrs": {
        "height": 0.8,
        "width": 0.8,
        "x": 0.1,
        "y": 0.1
       },
       "content": {
        "cell": "914a380d-18b0-4332-b768-69b87b707bd9",
        "part": "whole"
       },
       "id": "4bf9cb44-fd05-4688-8d59-981916328071"
      }
     }
    },
    "64fb2aa8-e441-49d9-a43f-4ff82a649449": {
     "id": "64fb2aa8-e441-49d9-a43f-4ff82a649449",
     "prev": "ca9fba2a-985a-4c25-bad9-79aa91777543",
     "regions": {
      "609b7f5d-e5c5-470a-87f8-ec16407fb304": {
       "attrs": {
        "height": 0.8,
        "width": 0.8,
        "x": 0.1,
        "y": 0.1
       },
       "content": {
        "cell": "3e4a3800-fabd-4bed-9d66-e3d93961222c",
        "part": "whole"
       },
       "id": "609b7f5d-e5c5-470a-87f8-ec16407fb304"
      }
     }
    },
    "6a634671-26ef-4c1a-93b9-aeb04637d11e": {
     "id": "6a634671-26ef-4c1a-93b9-aeb04637d11e",
     "prev": "9558c982-a819-42a9-9023-465783eb3913",
     "regions": {
      "95257280-c0d4-4339-a5e3-b8246be68d4c": {
       "attrs": {
        "height": 0.8,
        "width": 0.8,
        "x": 0.1,
        "y": 0.1
       },
       "content": {
        "cell": "8a3990f3-f904-48c0-b58b-43f415af2038",
        "part": "whole"
       },
       "id": "95257280-c0d4-4339-a5e3-b8246be68d4c"
      }
     }
    },
    "70a54bf9-0def-4381-a29e-ad5e8289938b": {
     "id": "70a54bf9-0def-4381-a29e-ad5e8289938b",
     "prev": "4321515e-9e52-4bbb-9323-93f85c88dd08",
     "regions": {
      "fae1b10f-9d13-4293-ad4f-eb8cc571ebea": {
       "attrs": {
        "height": 0.8,
        "width": 0.8,
        "x": 0.1,
        "y": 0.1
       },
       "content": {
        "cell": "0b461d54-db70-42f2-b2b6-b12d06ce81a5",
        "part": "whole"
       },
       "id": "fae1b10f-9d13-4293-ad4f-eb8cc571ebea"
      }
     }
    },
    "75f11504-1d82-4f25-bdbc-f47b77027f03": {
     "id": "75f11504-1d82-4f25-bdbc-f47b77027f03",
     "prev": "b2dec4a1-6f06-4944-b745-079bf0fd55bc",
     "regions": {
      "314cb683-d807-43a6-8cc1-856cd32bcf7a": {
       "attrs": {
        "height": 0.8,
        "width": 0.8,
        "x": 0.1,
        "y": 0.1
       },
       "content": {
        "cell": "8ad9b36d-d2f9-4338-bd9e-d1b79df9b8db",
        "part": "whole"
       },
       "id": "314cb683-d807-43a6-8cc1-856cd32bcf7a"
      }
     }
    },
    "772010f0-17c1-4d67-b07f-9a9fac6ad68a": {
     "id": "772010f0-17c1-4d67-b07f-9a9fac6ad68a",
     "prev": "92a9963d-b727-4fc0-88bb-50a5713e61a1",
     "regions": {
      "1ba4f1b3-98f6-44b5-b37d-d4fa99f78685": {
       "attrs": {
        "height": 0.8,
        "width": 0.8,
        "x": 0.1,
        "y": 0.1
       },
       "content": {
        "cell": "1128eae9-6771-48d2-8b07-18fdc81ffbb6",
        "part": "whole"
       },
       "id": "1ba4f1b3-98f6-44b5-b37d-d4fa99f78685"
      }
     }
    },
    "79e04971-c6ec-4fac-93bd-76167464fd55": {
     "id": "79e04971-c6ec-4fac-93bd-76167464fd55",
     "prev": "ead196d5-aedc-4bdb-bfdd-06cfe56c90ef",
     "regions": {
      "3294dd1f-1d05-413d-a141-0350eb3ab309": {
       "attrs": {
        "height": 0.8,
        "width": 0.8,
        "x": 0.1,
        "y": 0.1
       },
       "content": {
        "cell": "94518e43-3081-4d2c-8356-649572b4915e",
        "part": "whole"
       },
       "id": "3294dd1f-1d05-413d-a141-0350eb3ab309"
      }
     }
    },
    "7eaa6453-2ce0-4b94-967e-416cf653d0e6": {
     "id": "7eaa6453-2ce0-4b94-967e-416cf653d0e6",
     "prev": "772010f0-17c1-4d67-b07f-9a9fac6ad68a",
     "regions": {
      "696dd544-b9b5-48dd-9508-d57753552a28": {
       "attrs": {
        "height": 0.8,
        "width": 0.8,
        "x": 0.1,
        "y": 0.1
       },
       "content": {
        "cell": "9445dc2c-8033-4c65-8a96-dc50374b447e",
        "part": "whole"
       },
       "id": "696dd544-b9b5-48dd-9508-d57753552a28"
      }
     }
    },
    "8304bbc8-c468-441a-9686-8120a9e2bc9a": {
     "id": "8304bbc8-c468-441a-9686-8120a9e2bc9a",
     "prev": "70a54bf9-0def-4381-a29e-ad5e8289938b",
     "regions": {
      "c7649a74-96d0-49f9-b0bf-0ed0c57ab4e9": {
       "attrs": {
        "height": 0.8,
        "width": 0.8,
        "x": 0.1,
        "y": 0.1
       },
       "content": {
        "cell": "1884cb71-e6e3-4aa5-9597-b8b1a926f4f5",
        "part": "whole"
       },
       "id": "c7649a74-96d0-49f9-b0bf-0ed0c57ab4e9"
      }
     }
    },
    "83a0d0e6-7d9e-456d-aa37-80b992dfd1c8": {
     "id": "83a0d0e6-7d9e-456d-aa37-80b992dfd1c8",
     "prev": "a8c80486-0c20-492f-8780-df5b3cdea80e",
     "regions": {
      "639227c0-9b40-4062-a665-71a31800ef45": {
       "attrs": {
        "height": 0.8,
        "width": 0.8,
        "x": 0.1,
        "y": 0.1
       },
       "content": {
        "cell": "35aae7d4-39b7-439a-9272-1fee43d39844",
        "part": "whole"
       },
       "id": "639227c0-9b40-4062-a665-71a31800ef45"
      }
     }
    },
    "859974c9-f037-42c4-9b62-0f5e8db8fa0d": {
     "id": "859974c9-f037-42c4-9b62-0f5e8db8fa0d",
     "prev": "919b7532-ab4b-4ed9-b9bc-404aca50ba59",
     "regions": {
      "28863e9f-f9c8-443c-ac6b-d53d60b1eb08": {
       "attrs": {
        "height": 0.8,
        "width": 0.8,
        "x": 0.1,
        "y": 0.1
       },
       "content": {
        "cell": "cda36608-6720-4aff-8c23-cf0138e2c98f",
        "part": "whole"
       },
       "id": "28863e9f-f9c8-443c-ac6b-d53d60b1eb08"
      }
     }
    },
    "88756ec5-5208-4173-8fca-fbe49c139e85": {
     "id": "88756ec5-5208-4173-8fca-fbe49c139e85",
     "prev": "97d13698-4759-4ba7-88f8-4ef6373f3c90",
     "regions": {
      "8b7111ed-5311-4beb-bab3-56a7a9462727": {
       "attrs": {
        "height": 0.8,
        "width": 0.8,
        "x": 0.1,
        "y": 0.1
       },
       "content": {
        "cell": "338b293f-5348-417f-b19c-c65092f9fbab",
        "part": "whole"
       },
       "id": "8b7111ed-5311-4beb-bab3-56a7a9462727"
      }
     }
    },
    "919b7532-ab4b-4ed9-b9bc-404aca50ba59": {
     "id": "919b7532-ab4b-4ed9-b9bc-404aca50ba59",
     "prev": "d76e630f-a7a3-47fd-843f-2966a0ca4874",
     "regions": {
      "60c8933d-38cf-4d33-b402-4cc1c1ae4086": {
       "attrs": {
        "height": 0.8,
        "width": 0.8,
        "x": 0.1,
        "y": 0.1
       },
       "content": {
        "cell": "484c99f5-29a4-4563-ab27-6c50e69c688e",
        "part": "whole"
       },
       "id": "60c8933d-38cf-4d33-b402-4cc1c1ae4086"
      }
     }
    },
    "92a9963d-b727-4fc0-88bb-50a5713e61a1": {
     "id": "92a9963d-b727-4fc0-88bb-50a5713e61a1",
     "prev": "d5a4cc49-9dc3-4ab6-a3c5-b03fd28d7448",
     "regions": {
      "027a518e-34f7-4ec1-8e5f-9d770469071f": {
       "attrs": {
        "height": 0.8,
        "width": 0.8,
        "x": 0.1,
        "y": 0.1
       },
       "content": {
        "cell": "5d907cb1-725c-49a6-860e-64137bfae4d0",
        "part": "whole"
       },
       "id": "027a518e-34f7-4ec1-8e5f-9d770469071f"
      }
     }
    },
    "9303824b-da90-46ca-b4a6-e976fdf17456": {
     "id": "9303824b-da90-46ca-b4a6-e976fdf17456",
     "prev": "bf1253ed-9cc6-46fa-b537-3a6710bf6275",
     "regions": {
      "863163c7-96e8-4922-8df1-bc4a268482a2": {
       "attrs": {
        "height": 0.8,
        "width": 0.8,
        "x": 0.1,
        "y": 0.1
       },
       "content": {
        "cell": "b87fdad7-8243-44ff-b438-c6ee1ae56d70",
        "part": "whole"
       },
       "id": "863163c7-96e8-4922-8df1-bc4a268482a2"
      }
     }
    },
    "9558c982-a819-42a9-9023-465783eb3913": {
     "id": "9558c982-a819-42a9-9023-465783eb3913",
     "prev": "ba2cda47-2fbf-42a1-9fad-db4781d7940c",
     "regions": {
      "b1b5c0b9-2ee5-4ce4-b03f-ea6926a29315": {
       "attrs": {
        "height": 0.8,
        "width": 0.8,
        "x": 0.1,
        "y": 0.1
       },
       "content": {
        "cell": "7361b9d0-432f-4f65-892a-1e3422fbd615",
        "part": "whole"
       },
       "id": "b1b5c0b9-2ee5-4ce4-b03f-ea6926a29315"
      }
     }
    },
    "97167d5a-a5b2-4948-8e74-12e07d4ed32c": {
     "id": "97167d5a-a5b2-4948-8e74-12e07d4ed32c",
     "prev": "79e04971-c6ec-4fac-93bd-76167464fd55",
     "regions": {
      "a89723c9-61f5-4c81-a05a-81970d11e4d9": {
       "attrs": {
        "height": 0.8,
        "width": 0.8,
        "x": 0.1,
        "y": 0.1
       },
       "content": {
        "cell": "f01fe250-e88b-4f7f-bde4-d11b6fdc3baa",
        "part": "whole"
       },
       "id": "a89723c9-61f5-4c81-a05a-81970d11e4d9"
      }
     }
    },
    "97d13698-4759-4ba7-88f8-4ef6373f3c90": {
     "id": "97d13698-4759-4ba7-88f8-4ef6373f3c90",
     "prev": "b326e85b-fc46-44fd-866a-0ea96dd93ced",
     "regions": {
      "31c7a7d1-4351-43cc-b166-8281f06df9c5": {
       "attrs": {
        "height": 0.8,
        "width": 0.8,
        "x": 0.1,
        "y": 0.1
       },
       "content": {
        "cell": "5660dead-36b4-49b8-8381-a1507a524f86",
        "part": "whole"
       },
       "id": "31c7a7d1-4351-43cc-b166-8281f06df9c5"
      }
     }
    },
    "98ad7770-5d55-48d7-aeb2-227b69787ce3": {
     "id": "98ad7770-5d55-48d7-aeb2-227b69787ce3",
     "prev": "75f11504-1d82-4f25-bdbc-f47b77027f03",
     "regions": {
      "be5ec70f-ac97-424d-b1a5-30e027ea0bbf": {
       "attrs": {
        "height": 0.8,
        "width": 0.8,
        "x": 0.1,
        "y": 0.1
       },
       "content": {
        "cell": "08aaa72d-b4ff-40b5-9c25-d6a1e59ad461",
        "part": "whole"
       },
       "id": "be5ec70f-ac97-424d-b1a5-30e027ea0bbf"
      }
     }
    },
    "99989a0f-5fa7-4f26-8771-9a3e29c34c63": {
     "id": "99989a0f-5fa7-4f26-8771-9a3e29c34c63",
     "prev": null,
     "regions": {
      "68726bc2-c3d9-4186-89e9-097847bf92e0": {
       "attrs": {
        "height": 0.8,
        "width": 0.8,
        "x": 0.1,
        "y": 0.1
       },
       "content": {
        "cell": "3b344dce-70b3-4833-98ba-8a02f45ba205",
        "part": "whole"
       },
       "id": "68726bc2-c3d9-4186-89e9-097847bf92e0"
      }
     }
    },
    "a1ac4a76-d78e-4891-8c53-156843091aab": {
     "id": "a1ac4a76-d78e-4891-8c53-156843091aab",
     "prev": "3635e46f-1d17-4964-bacd-ed81da86af89",
     "regions": {
      "a8a52a7c-926b-46bb-b7f6-bd3fc6c4733f": {
       "attrs": {
        "height": 0.8,
        "width": 0.8,
        "x": 0.1,
        "y": 0.1
       },
       "content": {
        "cell": "c7e0df57-31e9-4a3f-895f-2ada8efa97df",
        "part": "whole"
       },
       "id": "a8a52a7c-926b-46bb-b7f6-bd3fc6c4733f"
      }
     }
    },
    "a2aca575-e04d-4752-a7d0-843878290d31": {
     "id": "a2aca575-e04d-4752-a7d0-843878290d31",
     "prev": "a1ac4a76-d78e-4891-8c53-156843091aab",
     "regions": {
      "cbd831cc-4c52-4511-89e7-e2b83fe87f0b": {
       "attrs": {
        "height": 0.8,
        "width": 0.8,
        "x": 0.1,
        "y": 0.1
       },
       "content": {
        "cell": "9c7b8a0e-bc23-4765-ac6e-0b037e57885c",
        "part": "whole"
       },
       "id": "cbd831cc-4c52-4511-89e7-e2b83fe87f0b"
      }
     }
    },
    "a3c832ea-e7c6-440b-9776-63030f4b2b6f": {
     "id": "a3c832ea-e7c6-440b-9776-63030f4b2b6f",
     "prev": "d8d47688-3692-4cb8-a484-a0903717e4ce",
     "regions": {
      "b4e62e37-e105-4191-af29-cdf0d7d83aaa": {
       "attrs": {
        "height": 0.8,
        "width": 0.8,
        "x": 0.1,
        "y": 0.1
       },
       "content": {
        "cell": "95efd318-f571-48cb-a594-8fea89811103",
        "part": "whole"
       },
       "id": "b4e62e37-e105-4191-af29-cdf0d7d83aaa"
      }
     }
    },
    "a7ce7f36-ef49-441c-9425-5c77c1abfa90": {
     "id": "a7ce7f36-ef49-441c-9425-5c77c1abfa90",
     "prev": "5f5740ca-8a97-4323-9155-22b5aad60bb0",
     "regions": {
      "44d7e19c-5e29-4ba3-a80c-a0fe08c217c0": {
       "attrs": {
        "height": 0.8,
        "width": 0.8,
        "x": 0.1,
        "y": 0.1
       },
       "content": {
        "cell": "0b4a9e70-fb01-482c-a5b1-2527f9afe1dd",
        "part": "whole"
       },
       "id": "44d7e19c-5e29-4ba3-a80c-a0fe08c217c0"
      }
     }
    },
    "a84dfac2-6abc-470f-833c-25f66e27c7e4": {
     "id": "a84dfac2-6abc-470f-833c-25f66e27c7e4",
     "prev": "b8af4e92-4cc0-47f9-ab43-a6bd1abd6ead",
     "regions": {
      "a4aec2f1-f06d-450f-a5f8-39ecc05e81cc": {
       "attrs": {
        "height": 0.8,
        "width": 0.8,
        "x": 0.1,
        "y": 0.1
       },
       "content": {
        "cell": "8718606d-8c3a-493a-88f0-86bab4ac4751",
        "part": "whole"
       },
       "id": "a4aec2f1-f06d-450f-a5f8-39ecc05e81cc"
      }
     }
    },
    "a8c80486-0c20-492f-8780-df5b3cdea80e": {
     "id": "a8c80486-0c20-492f-8780-df5b3cdea80e",
     "prev": "98ad7770-5d55-48d7-aeb2-227b69787ce3",
     "regions": {
      "f5d00f08-cd6d-47d3-b0bf-ca0449810f3f": {
       "attrs": {
        "height": 0.8,
        "width": 0.8,
        "x": 0.1,
        "y": 0.1
       },
       "content": {
        "cell": "62589dca-21e3-49ca-943d-3ca6ce5841df",
        "part": "whole"
       },
       "id": "f5d00f08-cd6d-47d3-b0bf-ca0449810f3f"
      }
     }
    },
    "ae1ca61e-aae8-471b-9b5d-8b24059bfa0d": {
     "id": "ae1ca61e-aae8-471b-9b5d-8b24059bfa0d",
     "prev": "2e6ab74c-b18c-4aeb-8904-091d9628ae3f",
     "regions": {
      "47cc66bf-78f4-40ca-adb7-c14a08d107a3": {
       "attrs": {
        "height": 0.8,
        "width": 0.8,
        "x": 0.1,
        "y": 0.1
       },
       "content": {
        "cell": "19997836-0379-4cfe-86f4-6e92f6a75b4f",
        "part": "whole"
       },
       "id": "47cc66bf-78f4-40ca-adb7-c14a08d107a3"
      }
     }
    },
    "b2dec4a1-6f06-4944-b745-079bf0fd55bc": {
     "id": "b2dec4a1-6f06-4944-b745-079bf0fd55bc",
     "prev": "9303824b-da90-46ca-b4a6-e976fdf17456",
     "regions": {
      "6898c984-9f75-4bc0-964d-50f69868e815": {
       "attrs": {
        "height": 0.8,
        "width": 0.8,
        "x": 0.1,
        "y": 0.1
       },
       "content": {
        "cell": "ccd57d7a-0b8a-4ee7-801f-3baf9aeeca18",
        "part": "whole"
       },
       "id": "6898c984-9f75-4bc0-964d-50f69868e815"
      }
     }
    },
    "b326e85b-fc46-44fd-866a-0ea96dd93ced": {
     "id": "b326e85b-fc46-44fd-866a-0ea96dd93ced",
     "prev": "6400460e-f596-4f4e-83f0-6fa85882c399",
     "regions": {
      "dfafd74b-6e6b-480a-8e98-8263bd4dc5da": {
       "attrs": {
        "height": 0.8,
        "width": 0.8,
        "x": 0.1,
        "y": 0.1
       },
       "content": {
        "cell": "6f28ad49-9fc5-42f9-a07b-978daa683b78",
        "part": "whole"
       },
       "id": "dfafd74b-6e6b-480a-8e98-8263bd4dc5da"
      }
     }
    },
    "b8af4e92-4cc0-47f9-ab43-a6bd1abd6ead": {
     "id": "b8af4e92-4cc0-47f9-ab43-a6bd1abd6ead",
     "prev": "a2aca575-e04d-4752-a7d0-843878290d31",
     "regions": {
      "e7037ac0-08f9-4a5d-9e3e-013aaf887172": {
       "attrs": {
        "height": 0.8,
        "width": 0.8,
        "x": 0.1,
        "y": 0.1
       },
       "content": {
        "cell": "09f080dc-c018-4944-a9f0-03b2fc7c4c77",
        "part": "whole"
       },
       "id": "e7037ac0-08f9-4a5d-9e3e-013aaf887172"
      }
     }
    },
    "ba2cda47-2fbf-42a1-9fad-db4781d7940c": {
     "id": "ba2cda47-2fbf-42a1-9fad-db4781d7940c",
     "prev": "234d410b-32de-4f24-bcff-f1c9a9582616",
     "regions": {
      "97e0b4cf-e6fc-4c4d-b285-1acf37f63455": {
       "attrs": {
        "height": 0.8,
        "width": 0.8,
        "x": 0.1,
        "y": 0.1
       },
       "content": {
        "cell": "fd5617b3-3a69-430f-abfe-565f08535901",
        "part": "whole"
       },
       "id": "97e0b4cf-e6fc-4c4d-b285-1acf37f63455"
      }
     }
    },
    "bb6e18c1-d0a1-4c8c-a0f1-58eb6b690366": {
     "id": "bb6e18c1-d0a1-4c8c-a0f1-58eb6b690366",
     "prev": "c358d234-1be1-4787-9551-4295673b8e68",
     "regions": {
      "cc9e81ca-4fe8-458c-9a0d-2b3ff8b236c4": {
       "attrs": {
        "height": 0.8,
        "width": 0.8,
        "x": 0.1,
        "y": 0.1
       },
       "content": {
        "cell": "6ea79cbd-94ff-4e35-a211-d72810f7b18c",
        "part": "whole"
       },
       "id": "cc9e81ca-4fe8-458c-9a0d-2b3ff8b236c4"
      }
     }
    },
    "bf1253ed-9cc6-46fa-b537-3a6710bf6275": {
     "id": "bf1253ed-9cc6-46fa-b537-3a6710bf6275",
     "prev": "e64cb32f-6d47-4a98-83bb-8e791a5a3bf1",
     "regions": {
      "86cf5317-96e1-4aaf-b995-d560ae36e0d5": {
       "attrs": {
        "height": 0.8,
        "width": 0.8,
        "x": 0.1,
        "y": 0.1
       },
       "content": {
        "cell": "1dabd227-494a-4477-8501-609b532fac9d",
        "part": "whole"
       },
       "id": "86cf5317-96e1-4aaf-b995-d560ae36e0d5"
      }
     }
    },
    "c358d234-1be1-4787-9551-4295673b8e68": {
     "id": "c358d234-1be1-4787-9551-4295673b8e68",
     "prev": "500b11fd-99fd-493b-92ef-ed092d004996",
     "regions": {
      "88e3eef8-b728-4b13-b0f5-579394c1d2ac": {
       "attrs": {
        "height": 0.8,
        "width": 0.8,
        "x": 0.1,
        "y": 0.1
       },
       "content": {
        "cell": "2a8e56d9-91a1-4f2b-b53e-cb47ad656170",
        "part": "whole"
       },
       "id": "88e3eef8-b728-4b13-b0f5-579394c1d2ac"
      }
     }
    },
    "c741be0d-44c3-4eb8-9e32-fbbd96cdbcef": {
     "id": "c741be0d-44c3-4eb8-9e32-fbbd96cdbcef",
     "prev": "cf75eed0-d717-4500-bcd0-4afdb57ab381",
     "regions": {
      "e38800e5-ac33-49e8-88ac-645975124fb6": {
       "attrs": {
        "height": 0.8,
        "width": 0.8,
        "x": 0.1,
        "y": 0.1
       },
       "content": {
        "cell": "4c8c083e-e540-4a04-b837-417652e3fcc1",
        "part": "whole"
       },
       "id": "e38800e5-ac33-49e8-88ac-645975124fb6"
      }
     }
    },
    "ca9fba2a-985a-4c25-bad9-79aa91777543": {
     "id": "ca9fba2a-985a-4c25-bad9-79aa91777543",
     "prev": "bb6e18c1-d0a1-4c8c-a0f1-58eb6b690366",
     "regions": {
      "84482675-61a3-4004-bb19-587c5c78119e": {
       "attrs": {
        "height": 0.8,
        "width": 0.8,
        "x": 0.1,
        "y": 0.1
       },
       "content": {
        "cell": "9a31d51a-996e-4334-a7e1-f3fcf1b8cc1e",
        "part": "whole"
       },
       "id": "84482675-61a3-4004-bb19-587c5c78119e"
      }
     }
    },
    "cb9f1ecc-2487-4c47-9430-8673ba35020e": {
     "id": "cb9f1ecc-2487-4c47-9430-8673ba35020e",
     "prev": "de31e18d-4db5-4928-97ce-787eca8c135f",
     "regions": {
      "a9306f1f-7d00-4350-973d-b6a37364da9f": {
       "attrs": {
        "height": 0.8,
        "width": 0.8,
        "x": 0.1,
        "y": 0.1
       },
       "content": {
        "cell": "0a12b227-c9cb-4e84-9d92-f16b1254dbbd",
        "part": "whole"
       },
       "id": "a9306f1f-7d00-4350-973d-b6a37364da9f"
      }
     }
    },
    "cf75eed0-d717-4500-bcd0-4afdb57ab381": {
     "id": "cf75eed0-d717-4500-bcd0-4afdb57ab381",
     "prev": "7eaa6453-2ce0-4b94-967e-416cf653d0e6",
     "regions": {
      "1dd90f3e-9df1-4045-a926-fc8dcde06d38": {
       "attrs": {
        "height": 0.8,
        "width": 0.8,
        "x": 0.1,
        "y": 0.1
       },
       "content": {
        "cell": "3c24e4d0-8d89-4f74-b531-145727118c26",
        "part": "whole"
       },
       "id": "1dd90f3e-9df1-4045-a926-fc8dcde06d38"
      }
     }
    },
    "d2ae0209-4cb1-4d2f-aab5-5c3f980d9833": {
     "id": "d2ae0209-4cb1-4d2f-aab5-5c3f980d9833",
     "prev": "a3c832ea-e7c6-440b-9776-63030f4b2b6f",
     "regions": {
      "b67735a7-846a-401a-87ba-5f26b27fda34": {
       "attrs": {
        "height": 0.8,
        "width": 0.8,
        "x": 0.1,
        "y": 0.1
       },
       "content": {
        "cell": "c80d2719-d609-4fb8-96c6-f934f73c12ce",
        "part": "whole"
       },
       "id": "b67735a7-846a-401a-87ba-5f26b27fda34"
      }
     }
    },
    "d5a4cc49-9dc3-4ab6-a3c5-b03fd28d7448": {
     "id": "d5a4cc49-9dc3-4ab6-a3c5-b03fd28d7448",
     "prev": "383d2099-f1cc-4623-94a1-adc6967b7b95",
     "regions": {
      "a54d69d5-3b17-46aa-8d37-0ecd8c4c6d72": {
       "attrs": {
        "height": 0.8,
        "width": 0.8,
        "x": 0.1,
        "y": 0.1
       },
       "content": {
        "cell": "379ffeab-17e2-4aa0-bde3-5401a65b23ca",
        "part": "whole"
       },
       "id": "a54d69d5-3b17-46aa-8d37-0ecd8c4c6d72"
      }
     }
    },
    "d76e630f-a7a3-47fd-843f-2966a0ca4874": {
     "id": "d76e630f-a7a3-47fd-843f-2966a0ca4874",
     "prev": "83a0d0e6-7d9e-456d-aa37-80b992dfd1c8",
     "regions": {
      "d0507f59-66b1-4525-a8fc-71b55166a255": {
       "attrs": {
        "height": 0.8,
        "width": 0.8,
        "x": 0.1,
        "y": 0.1
       },
       "content": {
        "cell": "6959cf82-2e01-4997-8656-6a0948a55e94",
        "part": "whole"
       },
       "id": "d0507f59-66b1-4525-a8fc-71b55166a255"
      }
     }
    },
    "d8d47688-3692-4cb8-a484-a0903717e4ce": {
     "id": "d8d47688-3692-4cb8-a484-a0903717e4ce",
     "prev": "6a634671-26ef-4c1a-93b9-aeb04637d11e",
     "regions": {
      "8b45ab12-bfc9-426f-ae7d-38f59b420d95": {
       "attrs": {
        "height": 0.8,
        "width": 0.8,
        "x": 0.1,
        "y": 0.1
       },
       "content": {
        "cell": "feb80959-f334-4a31-857c-233ce1fab92c",
        "part": "whole"
       },
       "id": "8b45ab12-bfc9-426f-ae7d-38f59b420d95"
      }
     }
    },
    "ddadb72d-c462-4d97-9455-3e963365273c": {
     "id": "ddadb72d-c462-4d97-9455-3e963365273c",
     "prev": "88756ec5-5208-4173-8fca-fbe49c139e85",
     "regions": {
      "a469d957-a5af-46bf-85b3-e11ebbce1aa7": {
       "attrs": {
        "height": 0.8,
        "width": 0.8,
        "x": 0.1,
        "y": 0.1
       },
       "content": {
        "cell": "6f56c1f2-d95b-4c53-bfed-a00ceac6a08e",
        "part": "whole"
       },
       "id": "a469d957-a5af-46bf-85b3-e11ebbce1aa7"
      }
     }
    },
    "ddf1065e-198d-4365-ba5a-cc094da66058": {
     "id": "ddf1065e-198d-4365-ba5a-cc094da66058",
     "prev": "47b40145-fab7-4986-932f-b6a6d049290c",
     "regions": {
      "1a804d19-ecc0-4baa-9d8f-6fe0804fffb9": {
       "attrs": {
        "height": 0.8,
        "width": 0.8,
        "x": 0.1,
        "y": 0.1
       },
       "content": {
        "cell": "32261b55-a4f7-488f-b782-cb6aed9a94b8",
        "part": "whole"
       },
       "id": "1a804d19-ecc0-4baa-9d8f-6fe0804fffb9"
      }
     }
    },
    "de31e18d-4db5-4928-97ce-787eca8c135f": {
     "id": "de31e18d-4db5-4928-97ce-787eca8c135f",
     "prev": "edba51a5-439c-4eb3-a1f5-e102cc6f02d7",
     "regions": {
      "abab83f0-6eb6-4bda-9b6a-0c497b11bffd": {
       "attrs": {
        "height": 0.8,
        "width": 0.8,
        "x": 0.1,
        "y": 0.1
       },
       "content": {
        "cell": "30252c80-fd68-4367-beed-5149c55b74c4",
        "part": "whole"
       },
       "id": "abab83f0-6eb6-4bda-9b6a-0c497b11bffd"
      }
     }
    },
    "e64cb32f-6d47-4a98-83bb-8e791a5a3bf1": {
     "id": "e64cb32f-6d47-4a98-83bb-8e791a5a3bf1",
     "prev": "40f7cd76-bd91-44ef-84b3-775cf411d9df",
     "regions": {
      "5c4ea45b-b444-4e43-afdd-3c8ecc7da443": {
       "attrs": {
        "height": 0.8,
        "width": 0.8,
        "x": 0.1,
        "y": 0.1
       },
       "content": {
        "cell": "3e8c4ae0-4df0-4744-9abe-4bc30aafddda",
        "part": "whole"
       },
       "id": "5c4ea45b-b444-4e43-afdd-3c8ecc7da443"
      }
     }
    },
    "e7f3eba4-2ac2-4bc7-9bae-356778a78c5c": {
     "id": "e7f3eba4-2ac2-4bc7-9bae-356778a78c5c",
     "prev": "8304bbc8-c468-441a-9686-8120a9e2bc9a",
     "regions": {
      "c5fa127e-b61d-489f-af84-050062857884": {
       "attrs": {
        "height": 0.8,
        "width": 0.8,
        "x": 0.1,
        "y": 0.1
       },
       "content": {
        "cell": "76db72f6-0cc0-4efa-b617-73d32c86aac2",
        "part": "whole"
       },
       "id": "c5fa127e-b61d-489f-af84-050062857884"
      }
     }
    },
    "ead196d5-aedc-4bdb-bfdd-06cfe56c90ef": {
     "id": "ead196d5-aedc-4bdb-bfdd-06cfe56c90ef",
     "prev": "45654003-8394-4845-add7-8e7dc725dc55",
     "regions": {
      "0efe0763-3da2-40e7-b388-0e2df5c70089": {
       "attrs": {
        "height": 0.8,
        "width": 0.8,
        "x": 0.1,
        "y": 0.1
       },
       "content": {
        "cell": "cb93906e-90d6-40c6-ba6d-61396556991f",
        "part": "whole"
       },
       "id": "0efe0763-3da2-40e7-b388-0e2df5c70089"
      }
     }
    },
    "ed356e78-d388-4825-b15b-9891879b6646": {
     "id": "ed356e78-d388-4825-b15b-9891879b6646",
     "prev": "97167d5a-a5b2-4948-8e74-12e07d4ed32c",
     "regions": {
      "69984000-db59-4210-97b0-6ae2baea698f": {
       "attrs": {
        "height": 0.8,
        "width": 0.8,
        "x": 0.1,
        "y": 0.1
       },
       "content": {
        "cell": "b5017e30-e931-4a79-8592-5509c62ff652",
        "part": "whole"
       },
       "id": "69984000-db59-4210-97b0-6ae2baea698f"
      }
     }
    },
    "edba51a5-439c-4eb3-a1f5-e102cc6f02d7": {
     "id": "edba51a5-439c-4eb3-a1f5-e102cc6f02d7",
     "prev": "c741be0d-44c3-4eb8-9e32-fbbd96cdbcef",
     "regions": {
      "03ea15fc-adf1-485a-8960-eae5910aeb52": {
       "attrs": {
        "height": 0.8,
        "width": 0.8,
        "x": 0.1,
        "y": 0.1
       },
       "content": {
        "cell": "8a69c55d-83e5-440d-b09a-ab8463755ecf",
        "part": "whole"
       },
       "id": "03ea15fc-adf1-485a-8960-eae5910aeb52"
      }
     }
    },
    "f9a2ffb6-2dca-4606-ad78-09af1c7973d9": {
     "id": "f9a2ffb6-2dca-4606-ad78-09af1c7973d9",
     "prev": "4cff7cf5-99dd-487a-b395-0a2b7e156fba",
     "regions": {
      "93caf43a-0240-4706-8d13-97de4efc0d1a": {
       "attrs": {
        "height": 0.8,
        "width": 0.8,
        "x": 0.1,
        "y": 0.1
       },
       "content": {
        "cell": "c8c959a0-51ec-4949-a800-94be2c63cfa8",
        "part": "whole"
       },
       "id": "93caf43a-0240-4706-8d13-97de4efc0d1a"
      }
     }
    },
    "fd28a190-0368-4db9-b8ea-e648bc4efd13": {
     "id": "fd28a190-0368-4db9-b8ea-e648bc4efd13",
     "prev": "cb9f1ecc-2487-4c47-9430-8673ba35020e",
     "regions": {
      "2cf1e722-403c-4058-823c-030e929ec75b": {
       "attrs": {
        "height": 0.8,
        "width": 0.8,
        "x": 0.1,
        "y": 0.1
       },
       "content": {
        "cell": "3fc44f91-f868-4018-a0b4-85427f30915c",
        "part": "whole"
       },
       "id": "2cf1e722-403c-4058-823c-030e929ec75b"
      }
     }
    }
   },
   "themes": {}
  }
 },
 "nbformat": 4,
 "nbformat_minor": 1
}
